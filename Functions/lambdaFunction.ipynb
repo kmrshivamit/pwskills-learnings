{
 "cells": [
  {
   "cell_type": "code",
   "execution_count": 1,
   "id": "46b24116",
   "metadata": {},
   "outputs": [],
   "source": [
    "n=3\n",
    "p=2"
   ]
  },
  {
   "cell_type": "code",
   "execution_count": 2,
   "id": "08ffe017",
   "metadata": {},
   "outputs": [],
   "source": [
    "def test(n,p):\n",
    "    return n"
   ]
  },
  {
   "cell_type": "code",
   "execution_count": 3,
   "id": "eebe3a69",
   "metadata": {},
   "outputs": [
    {
     "data": {
      "text/plain": [
       "3"
      ]
     },
     "execution_count": 3,
     "metadata": {},
     "output_type": "execute_result"
    }
   ],
   "source": [
    "test(n,p)"
   ]
  },
  {
   "cell_type": "code",
   "execution_count": 5,
   "id": "7cd64180",
   "metadata": {},
   "outputs": [],
   "source": [
    "a=lambda n,p: n**p\n"
   ]
  },
  {
   "cell_type": "code",
   "execution_count": 6,
   "id": "e91d7ed4",
   "metadata": {},
   "outputs": [
    {
     "data": {
      "text/plain": [
       "9"
      ]
     },
     "execution_count": 6,
     "metadata": {},
     "output_type": "execute_result"
    }
   ],
   "source": [
    "a(3,2)"
   ]
  },
  {
   "cell_type": "code",
   "execution_count": 7,
   "id": "7baeebdc",
   "metadata": {},
   "outputs": [],
   "source": [
    "add=lambda x,y: x+y\n"
   ]
  },
  {
   "cell_type": "code",
   "execution_count": 8,
   "id": "6ab802b3",
   "metadata": {},
   "outputs": [
    {
     "data": {
      "text/plain": [
       "7"
      ]
     },
     "execution_count": 8,
     "metadata": {},
     "output_type": "execute_result"
    }
   ],
   "source": [
    "add(3,4)"
   ]
  },
  {
   "cell_type": "code",
   "execution_count": 9,
   "id": "eb7ac9ea",
   "metadata": {},
   "outputs": [],
   "source": [
    "c_to_f=lambda c: (9/5)*c +32"
   ]
  },
  {
   "cell_type": "code",
   "execution_count": 10,
   "id": "b90a6a75",
   "metadata": {},
   "outputs": [
    {
     "data": {
      "text/plain": [
       "113.0"
      ]
     },
     "execution_count": 10,
     "metadata": {},
     "output_type": "execute_result"
    }
   ],
   "source": [
    "c_to_f(45)"
   ]
  },
  {
   "cell_type": "code",
   "execution_count": 11,
   "id": "4080c923",
   "metadata": {},
   "outputs": [],
   "source": [
    "finding_max=lambda x,y: x if x>y else y\n"
   ]
  },
  {
   "cell_type": "code",
   "execution_count": 12,
   "id": "66ed73da",
   "metadata": {},
   "outputs": [
    {
     "data": {
      "text/plain": [
       "23"
      ]
     },
     "execution_count": 12,
     "metadata": {},
     "output_type": "execute_result"
    }
   ],
   "source": [
    "finding_max(23,22)"
   ]
  },
  {
   "cell_type": "code",
   "execution_count": 13,
   "id": "1b7ff85f",
   "metadata": {},
   "outputs": [],
   "source": [
    "s=\"pwskills\"\n"
   ]
  },
  {
   "cell_type": "code",
   "execution_count": 17,
   "id": "46539de4",
   "metadata": {},
   "outputs": [],
   "source": [
    "finding_len=lambda s:len(s)"
   ]
  },
  {
   "cell_type": "code",
   "execution_count": 18,
   "id": "9aae6ed5",
   "metadata": {},
   "outputs": [
    {
     "data": {
      "text/plain": [
       "8"
      ]
     },
     "execution_count": 18,
     "metadata": {},
     "output_type": "execute_result"
    }
   ],
   "source": [
    "finding_len(s)"
   ]
  },
  {
   "cell_type": "code",
   "execution_count": null,
   "id": "75dca3a6",
   "metadata": {},
   "outputs": [],
   "source": []
  }
 ],
 "metadata": {
  "kernelspec": {
   "display_name": "Python 3 (ipykernel)",
   "language": "python",
   "name": "python3"
  },
  "language_info": {
   "codemirror_mode": {
    "name": "ipython",
    "version": 3
   },
   "file_extension": ".py",
   "mimetype": "text/x-python",
   "name": "python",
   "nbconvert_exporter": "python",
   "pygments_lexer": "ipython3",
   "version": "3.9.13"
  }
 },
 "nbformat": 4,
 "nbformat_minor": 5
}
