{
 "cells": [
  {
   "cell_type": "code",
   "execution_count": null,
   "id": "c9f00fca",
   "metadata": {},
   "outputs": [],
   "source": []
  },
  {
   "cell_type": "code",
   "execution_count": 1,
   "id": "d4135dce",
   "metadata": {},
   "outputs": [],
   "source": [
    "#use always a specific exception"
   ]
  },
  {
   "cell_type": "code",
   "execution_count": 2,
   "id": "616b7b19",
   "metadata": {},
   "outputs": [],
   "source": [
    "try:\n",
    "    10/10\n",
    "except ZeroDivisionError as e:\n",
    "    print(e)"
   ]
  },
  {
   "cell_type": "code",
   "execution_count": 3,
   "id": "9042f9d7",
   "metadata": {},
   "outputs": [
    {
     "name": "stdout",
     "output_type": "stream",
     "text": [
      "i am trying to handle a zerodivision error division by zero\n"
     ]
    }
   ],
   "source": [
    "#print always a proper message\n",
    "try:\n",
    "    10/0\n",
    "except ZeroDivisionError as e:\n",
    "    print('i am trying to handle a zerodivision error',e)"
   ]
  },
  {
   "cell_type": "code",
   "execution_count": 5,
   "id": "1a7a3dc1",
   "metadata": {},
   "outputs": [],
   "source": [
    "import logging\n",
    "logging.basicConfig(filename='error.log',level=logging.ERROR)\n",
    "try:\n",
    "    10/0\n",
    "except ZeroDivisionError as e:\n",
    "    logging.error('i am trying to handle a zerodivision error'.format(e))"
   ]
  },
  {
   "cell_type": "code",
   "execution_count": 8,
   "id": "9033e051",
   "metadata": {},
   "outputs": [],
   "source": [
    "#always avoid to write a multiple exception handeling\n",
    "try:\n",
    "    10/0\n",
    "except FileNotFoundError as e:\n",
    "    logging.error('i am handeling file not found {}'.format(e))\n",
    "except AttributeError as e:\n",
    "    logging.error('i am handeling attribute error{}'.format(e))\n",
    "except ZeroDivisionError as e:\n",
    "    logging.error('i am handeling zerodivision error{}'.format(e))\n",
    "    "
   ]
  },
  {
   "cell_type": "code",
   "execution_count": 9,
   "id": "0718a4e4",
   "metadata": {},
   "outputs": [],
   "source": [
    "#Document all the error"
   ]
  },
  {
   "cell_type": "code",
   "execution_count": 12,
   "id": "e32a6da2",
   "metadata": {},
   "outputs": [],
   "source": [
    "#clean all the resources\n",
    "try:\n",
    "    with open('text.txt','w') as f:\n",
    "        f.write('this is  my data to file')\n",
    "except FileNotFoundError as e:\n",
    "    logging.error('i am handeling file not found {}'.format(e))\n",
    "finally:\n",
    "    f.close()"
   ]
  },
  {
   "cell_type": "code",
   "execution_count": null,
   "id": "2010fad8",
   "metadata": {},
   "outputs": [],
   "source": []
  }
 ],
 "metadata": {
  "kernelspec": {
   "display_name": "Python 3 (ipykernel)",
   "language": "python",
   "name": "python3"
  },
  "language_info": {
   "codemirror_mode": {
    "name": "ipython",
    "version": 3
   },
   "file_extension": ".py",
   "mimetype": "text/x-python",
   "name": "python",
   "nbconvert_exporter": "python",
   "pygments_lexer": "ipython3",
   "version": "3.9.13"
  }
 },
 "nbformat": 4,
 "nbformat_minor": 5
}
