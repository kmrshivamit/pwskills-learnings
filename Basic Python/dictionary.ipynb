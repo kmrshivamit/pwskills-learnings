{
 "cells": [
  {
   "cell_type": "code",
   "execution_count": 1,
   "id": "98ea01e3",
   "metadata": {},
   "outputs": [],
   "source": [
    "a=10"
   ]
  },
  {
   "cell_type": "code",
   "execution_count": 2,
   "id": "737d6d01",
   "metadata": {},
   "outputs": [],
   "source": [
    "_a=10"
   ]
  },
  {
   "cell_type": "code",
   "execution_count": 3,
   "id": "a2be8b25",
   "metadata": {},
   "outputs": [
    {
     "data": {
      "text/plain": [
       "10"
      ]
     },
     "execution_count": 3,
     "metadata": {},
     "output_type": "execute_result"
    }
   ],
   "source": [
    "a#$@=10"
   ]
  },
  {
   "cell_type": "code",
   "execution_count": 4,
   "id": "722242b5",
   "metadata": {},
   "outputs": [
    {
     "data": {
      "text/plain": [
       "10"
      ]
     },
     "execution_count": 4,
     "metadata": {},
     "output_type": "execute_result"
    }
   ],
   "source": [
    "a#$@"
   ]
  },
  {
   "cell_type": "code",
   "execution_count": 5,
   "id": "747f1c95",
   "metadata": {},
   "outputs": [
    {
     "ename": "SyntaxError",
     "evalue": "cannot assign to operator (787291337.py, line 1)",
     "output_type": "error",
     "traceback": [
      "\u001b[1;36m  File \u001b[1;32m\"C:\\Users\\kmrsh\\AppData\\Local\\Temp\\ipykernel_26044\\787291337.py\"\u001b[1;36m, line \u001b[1;32m1\u001b[0m\n\u001b[1;33m    a-b=10\u001b[0m\n\u001b[1;37m    ^\u001b[0m\n\u001b[1;31mSyntaxError\u001b[0m\u001b[1;31m:\u001b[0m cannot assign to operator\n"
     ]
    }
   ],
   "source": [
    "a-b=10"
   ]
  },
  {
   "cell_type": "code",
   "execution_count": 7,
   "id": "0089bb6b",
   "metadata": {},
   "outputs": [],
   "source": [
    "d={'number':[2,34,34,23,2],\n",
    "  'assignment':(1,2,3,4,5,6),\n",
    "  'class_time':{'web_dev':8,\n",
    "  'Data Science Master':8,\n",
    "  'java with dsa and system':7}}"
   ]
  },
  {
   "cell_type": "code",
   "execution_count": 8,
   "id": "f4e3ff55",
   "metadata": {},
   "outputs": [
    {
     "data": {
      "text/plain": [
       "8"
      ]
     },
     "execution_count": 8,
     "metadata": {},
     "output_type": "execute_result"
    }
   ],
   "source": [
    "d['class_time']['Data Science Master']"
   ]
  },
  {
   "cell_type": "code",
   "execution_count": 9,
   "id": "1d7ebc8a",
   "metadata": {},
   "outputs": [],
   "source": [
    "d['mentor']=['sudhansu','krish','anurag','hyder']"
   ]
  },
  {
   "cell_type": "code",
   "execution_count": 10,
   "id": "809d42ce",
   "metadata": {},
   "outputs": [],
   "source": [
    "del d['mentor']"
   ]
  },
  {
   "cell_type": "code",
   "execution_count": 11,
   "id": "c2f4e133",
   "metadata": {},
   "outputs": [
    {
     "data": {
      "text/plain": [
       "{'number': [2, 34, 34, 23, 2],\n",
       " 'assignment': (1, 2, 3, 4, 5, 6),\n",
       " 'class_time': {'web_dev': 8,\n",
       "  'Data Science Master': 8,\n",
       "  'java with dsa and system': 7}}"
      ]
     },
     "execution_count": 11,
     "metadata": {},
     "output_type": "execute_result"
    }
   ],
   "source": [
    "d"
   ]
  },
  {
   "cell_type": "code",
   "execution_count": 12,
   "id": "b36e541c",
   "metadata": {},
   "outputs": [
    {
     "data": {
      "text/plain": [
       "{'web_dev': 8, 'Data Science Master': 8, 'java with dsa and system': 7}"
      ]
     },
     "execution_count": 12,
     "metadata": {},
     "output_type": "execute_result"
    }
   ],
   "source": [
    "d.pop('class_time')"
   ]
  },
  {
   "cell_type": "code",
   "execution_count": 13,
   "id": "84cae18e",
   "metadata": {},
   "outputs": [
    {
     "data": {
      "text/plain": [
       "{'number': [2, 34, 34, 23, 2], 'assignment': (1, 2, 3, 4, 5, 6)}"
      ]
     },
     "execution_count": 13,
     "metadata": {},
     "output_type": "execute_result"
    }
   ],
   "source": [
    "d"
   ]
  },
  {
   "cell_type": "code",
   "execution_count": 14,
   "id": "c8bdd899",
   "metadata": {},
   "outputs": [
    {
     "data": {
      "text/plain": [
       "dict_items([('number', [2, 34, 34, 23, 2]), ('assignment', (1, 2, 3, 4, 5, 6))])"
      ]
     },
     "execution_count": 14,
     "metadata": {},
     "output_type": "execute_result"
    }
   ],
   "source": [
    "d.items()"
   ]
  },
  {
   "cell_type": "code",
   "execution_count": 15,
   "id": "03ec98d2",
   "metadata": {},
   "outputs": [],
   "source": [
    "import pandas as pd"
   ]
  },
  {
   "cell_type": "code",
   "execution_count": 16,
   "id": "2d52b16b",
   "metadata": {},
   "outputs": [],
   "source": [
    "d={'name':['shivam','ramesh','rohit'],\n",
    "  'company':['tcs','info','wipro']}"
   ]
  },
  {
   "cell_type": "code",
   "execution_count": 17,
   "id": "86ce61b9",
   "metadata": {},
   "outputs": [],
   "source": [
    "df=pd.DataFrame(d)"
   ]
  },
  {
   "cell_type": "code",
   "execution_count": 18,
   "id": "a36eb60a",
   "metadata": {},
   "outputs": [
    {
     "data": {
      "text/html": [
       "<div>\n",
       "<style scoped>\n",
       "    .dataframe tbody tr th:only-of-type {\n",
       "        vertical-align: middle;\n",
       "    }\n",
       "\n",
       "    .dataframe tbody tr th {\n",
       "        vertical-align: top;\n",
       "    }\n",
       "\n",
       "    .dataframe thead th {\n",
       "        text-align: right;\n",
       "    }\n",
       "</style>\n",
       "<table border=\"1\" class=\"dataframe\">\n",
       "  <thead>\n",
       "    <tr style=\"text-align: right;\">\n",
       "      <th></th>\n",
       "      <th>name</th>\n",
       "      <th>company</th>\n",
       "    </tr>\n",
       "  </thead>\n",
       "  <tbody>\n",
       "    <tr>\n",
       "      <th>0</th>\n",
       "      <td>shivam</td>\n",
       "      <td>tcs</td>\n",
       "    </tr>\n",
       "    <tr>\n",
       "      <th>1</th>\n",
       "      <td>ramesh</td>\n",
       "      <td>info</td>\n",
       "    </tr>\n",
       "    <tr>\n",
       "      <th>2</th>\n",
       "      <td>rohit</td>\n",
       "      <td>wipro</td>\n",
       "    </tr>\n",
       "  </tbody>\n",
       "</table>\n",
       "</div>"
      ],
      "text/plain": [
       "     name company\n",
       "0  shivam     tcs\n",
       "1  ramesh    info\n",
       "2   rohit   wipro"
      ]
     },
     "execution_count": 18,
     "metadata": {},
     "output_type": "execute_result"
    }
   ],
   "source": [
    "df.head()"
   ]
  },
  {
   "cell_type": "code",
   "execution_count": null,
   "id": "21ebf294",
   "metadata": {},
   "outputs": [],
   "source": [
    "df.abs()"
   ]
  }
 ],
 "metadata": {
  "kernelspec": {
   "display_name": "Python 3 (ipykernel)",
   "language": "python",
   "name": "python3"
  },
  "language_info": {
   "codemirror_mode": {
    "name": "ipython",
    "version": 3
   },
   "file_extension": ".py",
   "mimetype": "text/x-python",
   "name": "python",
   "nbconvert_exporter": "python",
   "pygments_lexer": "ipython3",
   "version": "3.9.13"
  }
 },
 "nbformat": 4,
 "nbformat_minor": 5
}
