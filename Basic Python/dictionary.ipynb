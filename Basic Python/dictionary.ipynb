{
 "cells": [
  {
   "cell_type": "code",
   "execution_count": 1,
   "id": "4b7e5515",
   "metadata": {},
   "outputs": [],
   "source": [
    "a=10"
   ]
  },
  {
   "cell_type": "code",
   "execution_count": 2,
   "id": "03849608",
   "metadata": {},
   "outputs": [],
   "source": [
    "_a=10"
   ]
  },
  {
   "cell_type": "code",
   "execution_count": 3,
   "id": "430ad6d1",
   "metadata": {},
   "outputs": [
    {
     "data": {
      "text/plain": [
       "10"
      ]
     },
     "execution_count": 3,
     "metadata": {},
     "output_type": "execute_result"
    }
   ],
   "source": [
    "a#$@=10"
   ]
  },
  {
   "cell_type": "code",
   "execution_count": 4,
   "id": "da810b7d",
   "metadata": {},
   "outputs": [
    {
     "data": {
      "text/plain": [
       "10"
      ]
     },
     "execution_count": 4,
     "metadata": {},
     "output_type": "execute_result"
    }
   ],
   "source": [
    "a#$@"
   ]
  },
  {
   "cell_type": "code",
   "execution_count": 5,
   "id": "a9eb2b2c",
   "metadata": {},
   "outputs": [
    {
     "ename": "SyntaxError",
     "evalue": "cannot assign to operator (787291337.py, line 1)",
     "output_type": "error",
     "traceback": [
      "\u001b[1;36m  File \u001b[1;32m\"C:\\Users\\kmrsh\\AppData\\Local\\Temp\\ipykernel_26044\\787291337.py\"\u001b[1;36m, line \u001b[1;32m1\u001b[0m\n\u001b[1;33m    a-b=10\u001b[0m\n\u001b[1;37m    ^\u001b[0m\n\u001b[1;31mSyntaxError\u001b[0m\u001b[1;31m:\u001b[0m cannot assign to operator\n"
     ]
    }
   ],
   "source": [
    "a-b=10"
   ]
  },
  {
   "cell_type": "code",
   "execution_count": 7,
   "id": "63158d10",
   "metadata": {},
   "outputs": [],
   "source": [
    "d={'number':[2,34,34,23,2],\n",
    "  'assignment':(1,2,3,4,5,6),\n",
    "  'class_time':{'web_dev':8,\n",
    "  'Data Science Master':8,\n",
    "  'java with dsa and system':7}}"
   ]
  },
  {
   "cell_type": "code",
   "execution_count": 8,
   "id": "52b47528",
   "metadata": {},
   "outputs": [
    {
     "data": {
      "text/plain": [
       "8"
      ]
     },
     "execution_count": 8,
     "metadata": {},
     "output_type": "execute_result"
    }
   ],
   "source": [
    "d['class_time']['Data Science Master']"
   ]
  },
  {
   "cell_type": "code",
   "execution_count": 9,
   "id": "a302ad18",
   "metadata": {},
   "outputs": [],
   "source": [
    "d['mentor']=['sudhansu','krish','anurag','hyder']"
   ]
  },
  {
   "cell_type": "code",
   "execution_count": 10,
   "id": "b977d044",
   "metadata": {},
   "outputs": [],
   "source": [
    "del d['mentor']"
   ]
  },
  {
   "cell_type": "code",
   "execution_count": 11,
   "id": "71dda418",
   "metadata": {},
   "outputs": [
    {
     "data": {
      "text/plain": [
       "{'number': [2, 34, 34, 23, 2],\n",
       " 'assignment': (1, 2, 3, 4, 5, 6),\n",
       " 'class_time': {'web_dev': 8,\n",
       "  'Data Science Master': 8,\n",
       "  'java with dsa and system': 7}}"
      ]
     },
     "execution_count": 11,
     "metadata": {},
     "output_type": "execute_result"
    }
   ],
   "source": [
    "d"
   ]
  },
  {
   "cell_type": "code",
   "execution_count": 12,
   "id": "595159a5",
   "metadata": {},
   "outputs": [
    {
     "data": {
      "text/plain": [
       "{'web_dev': 8, 'Data Science Master': 8, 'java with dsa and system': 7}"
      ]
     },
     "execution_count": 12,
     "metadata": {},
     "output_type": "execute_result"
    }
   ],
   "source": [
    "d.pop('class_time')"
   ]
  },
  {
   "cell_type": "code",
   "execution_count": 13,
   "id": "9ebbb8de",
   "metadata": {},
   "outputs": [
    {
     "data": {
      "text/plain": [
       "{'number': [2, 34, 34, 23, 2], 'assignment': (1, 2, 3, 4, 5, 6)}"
      ]
     },
     "execution_count": 13,
     "metadata": {},
     "output_type": "execute_result"
    }
   ],
   "source": [
    "d"
   ]
  },
  {
   "cell_type": "code",
   "execution_count": 14,
   "id": "494a01ce",
   "metadata": {},
   "outputs": [
    {
     "data": {
      "text/plain": [
       "dict_items([('number', [2, 34, 34, 23, 2]), ('assignment', (1, 2, 3, 4, 5, 6))])"
      ]
     },
     "execution_count": 14,
     "metadata": {},
     "output_type": "execute_result"
    }
   ],
   "source": [
    "d.items()"
   ]
  },
  {
   "cell_type": "code",
   "execution_count": null,
   "id": "7ca14cbc",
   "metadata": {},
   "outputs": [],
   "source": []
  }
 ],
 "metadata": {
  "kernelspec": {
   "display_name": "Python 3 (ipykernel)",
   "language": "python",
   "name": "python3"
  },
  "language_info": {
   "codemirror_mode": {
    "name": "ipython",
    "version": 3
   },
   "file_extension": ".py",
   "mimetype": "text/x-python",
   "name": "python",
   "nbconvert_exporter": "python",
   "pygments_lexer": "ipython3",
   "version": "3.9.13"
  }
 },
 "nbformat": 4,
 "nbformat_minor": 5
}
