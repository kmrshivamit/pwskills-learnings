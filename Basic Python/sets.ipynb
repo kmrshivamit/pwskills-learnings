{
 "cells": [
  {
   "cell_type": "code",
   "execution_count": 1,
   "id": "e79d517d",
   "metadata": {},
   "outputs": [],
   "source": [
    "s3={232,'shivam',23,(2,3)}"
   ]
  },
  {
   "cell_type": "code",
   "execution_count": 6,
   "id": "39af3484",
   "metadata": {},
   "outputs": [
    {
     "ename": "TypeError",
     "evalue": "unhashable type: 'list'",
     "output_type": "error",
     "traceback": [
      "\u001b[1;31m---------------------------------------------------------------------------\u001b[0m",
      "\u001b[1;31mTypeError\u001b[0m                                 Traceback (most recent call last)",
      "\u001b[1;32m~\\AppData\\Local\\Temp\\ipykernel_24624\\1967469097.py\u001b[0m in \u001b[0;36m<module>\u001b[1;34m\u001b[0m\n\u001b[1;32m----> 1\u001b[1;33m \u001b[0ms3\u001b[0m\u001b[1;33m.\u001b[0m\u001b[0madd\u001b[0m\u001b[1;33m(\u001b[0m\u001b[1;33m[\u001b[0m\u001b[1;36m1\u001b[0m\u001b[1;33m,\u001b[0m\u001b[1;36m2\u001b[0m\u001b[1;33m]\u001b[0m\u001b[1;33m)\u001b[0m \u001b[1;31m#set can't use mutable data used when we need to remove duplicate\u001b[0m\u001b[1;33m\u001b[0m\u001b[1;33m\u001b[0m\u001b[0m\n\u001b[0m",
      "\u001b[1;31mTypeError\u001b[0m: unhashable type: 'list'"
     ]
    }
   ],
   "source": [
    "s3.add([1,2]) #set can't use mutable data used when we need to remove duplicate"
   ]
  },
  {
   "cell_type": "code",
   "execution_count": 7,
   "id": "4812aa34",
   "metadata": {},
   "outputs": [
    {
     "data": {
      "text/plain": [
       "{(2, 3), 23, 232, 'shivam'}"
      ]
     },
     "execution_count": 7,
     "metadata": {},
     "output_type": "execute_result"
    }
   ],
   "source": [
    "s3"
   ]
  },
  {
   "cell_type": "code",
   "execution_count": 9,
   "id": "bb321328",
   "metadata": {},
   "outputs": [],
   "source": [
    "s3.remove(23)"
   ]
  },
  {
   "cell_type": "code",
   "execution_count": null,
   "id": "2cc57fb4",
   "metadata": {},
   "outputs": [],
   "source": []
  }
 ],
 "metadata": {
  "kernelspec": {
   "display_name": "Python 3 (ipykernel)",
   "language": "python",
   "name": "python3"
  },
  "language_info": {
   "codemirror_mode": {
    "name": "ipython",
    "version": 3
   },
   "file_extension": ".py",
   "mimetype": "text/x-python",
   "name": "python",
   "nbconvert_exporter": "python",
   "pygments_lexer": "ipython3",
   "version": "3.9.13"
  }
 },
 "nbformat": 4,
 "nbformat_minor": 5
}
