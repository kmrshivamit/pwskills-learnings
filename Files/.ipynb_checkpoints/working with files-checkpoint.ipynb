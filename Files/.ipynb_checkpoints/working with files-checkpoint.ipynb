{
 "cells": [
  {
   "cell_type": "code",
   "execution_count": 1,
   "id": "21c48c4a",
   "metadata": {},
   "outputs": [],
   "source": [
    "f=open('test.txt','x')"
   ]
  },
  {
   "cell_type": "code",
   "execution_count": 2,
   "id": "9777234f",
   "metadata": {},
   "outputs": [
    {
     "data": {
      "text/plain": [
       "'C:\\\\Users\\\\kmrsh\\\\OneDrive\\\\Documents\\\\PW SKills\\\\Files'"
      ]
     },
     "execution_count": 2,
     "metadata": {},
     "output_type": "execute_result"
    }
   ],
   "source": [
    "pwd"
   ]
  },
  {
   "cell_type": "code",
   "execution_count": 3,
   "id": "493d76f5",
   "metadata": {},
   "outputs": [
    {
     "name": "stdout",
     "output_type": "stream",
     "text": [
      " Volume in drive C is OS\n",
      " Volume Serial Number is D07D-FBA4\n",
      "\n",
      " Directory of C:\\Users\\kmrsh\\OneDrive\\Documents\\PW SKills\\Files\n",
      "\n",
      "13-02-2023  18:40    <DIR>          .\n",
      "13-02-2023  18:39    <DIR>          ..\n",
      "13-02-2023  18:39    <DIR>          .ipynb_checkpoints\n",
      "13-02-2023  18:40                 0 test.txt\n",
      "13-02-2023  18:39                72 Untitled.ipynb\n",
      "               2 File(s)             72 bytes\n",
      "               3 Dir(s)  389,889,708,032 bytes free\n"
     ]
    }
   ],
   "source": [
    "ls\n"
   ]
  },
  {
   "cell_type": "code",
   "execution_count": 4,
   "id": "b47fbedd",
   "metadata": {},
   "outputs": [
    {
     "name": "stdout",
     "output_type": "stream",
     "text": [
      "[WinError 2] The system cannot find the file specified: 'work'\n",
      "C:\\Users\\kmrsh\\OneDrive\\Documents\\PW SKills\\Files\n"
     ]
    }
   ],
   "source": [
    "cd work"
   ]
  },
  {
   "cell_type": "code",
   "execution_count": null,
   "id": "454a35b0",
   "metadata": {},
   "outputs": [],
   "source": []
  }
 ],
 "metadata": {
  "kernelspec": {
   "display_name": "Python 3 (ipykernel)",
   "language": "python",
   "name": "python3"
  },
  "language_info": {
   "codemirror_mode": {
    "name": "ipython",
    "version": 3
   },
   "file_extension": ".py",
   "mimetype": "text/x-python",
   "name": "python",
   "nbconvert_exporter": "python",
   "pygments_lexer": "ipython3",
   "version": "3.9.13"
  }
 },
 "nbformat": 4,
 "nbformat_minor": 5
}
