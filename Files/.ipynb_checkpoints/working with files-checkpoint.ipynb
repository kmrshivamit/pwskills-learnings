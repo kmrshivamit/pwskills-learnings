{
 "cells": [
  {
   "cell_type": "code",
   "execution_count": 17,
   "id": "284ebc96",
   "metadata": {},
   "outputs": [],
   "source": [
    "f=open('test.txt','w')"
   ]
  },
  {
   "cell_type": "code",
   "execution_count": 18,
   "id": "b66228e4",
   "metadata": {},
   "outputs": [
    {
     "data": {
      "text/plain": [
       "'C:\\\\Users\\\\kmrsh\\\\OneDrive\\\\Documents\\\\PW SKills\\\\Files'"
      ]
     },
     "execution_count": 18,
     "metadata": {},
     "output_type": "execute_result"
    }
   ],
   "source": [
    "pwd"
   ]
  },
  {
   "cell_type": "code",
   "execution_count": 19,
   "id": "e330df6d",
   "metadata": {},
   "outputs": [
    {
     "name": "stdout",
     "output_type": "stream",
     "text": [
      " Volume in drive C is OS\n",
      " Volume Serial Number is D07D-FBA4\n",
      "\n",
      " Directory of C:\\Users\\kmrsh\\OneDrive\\Documents\\PW SKills\\Files\n",
      "\n",
      "13-02-2023  18:49    <DIR>          .\n",
      "13-02-2023  18:39    <DIR>          ..\n",
      "13-02-2023  18:45    <DIR>          .ipynb_checkpoints\n",
      "13-02-2023  18:50                 0 test.txt\n",
      "13-02-2023  18:49             4,180 working with files.ipynb\n",
      "               2 File(s)          4,180 bytes\n",
      "               3 Dir(s)  389,909,463,040 bytes free\n"
     ]
    }
   ],
   "source": [
    "ls\n"
   ]
  },
  {
   "cell_type": "code",
   "execution_count": 20,
   "id": "83e3d850",
   "metadata": {},
   "outputs": [
    {
     "name": "stdout",
     "output_type": "stream",
     "text": [
      "[WinError 2] The system cannot find the file specified: 'work'\n",
      "C:\\Users\\kmrsh\\OneDrive\\Documents\\PW SKills\\Files\n"
     ]
    }
   ],
   "source": [
    "cd work"
   ]
  },
  {
   "cell_type": "code",
   "execution_count": 21,
   "id": "aef0534c",
   "metadata": {},
   "outputs": [
    {
     "name": "stdout",
     "output_type": "stream",
     "text": [
      " Volume in drive C is OS\n",
      " Volume Serial Number is D07D-FBA4\n",
      "\n",
      " Directory of C:\\Users\\kmrsh\\OneDrive\\Documents\\PW SKills\\Files\n",
      "\n",
      "13-02-2023  18:49    <DIR>          .\n",
      "13-02-2023  18:39    <DIR>          ..\n",
      "13-02-2023  18:45    <DIR>          .ipynb_checkpoints\n",
      "13-02-2023  18:50                 0 test.txt\n",
      "13-02-2023  18:49             4,180 working with files.ipynb\n",
      "               2 File(s)          4,180 bytes\n",
      "               3 Dir(s)  389,909,377,024 bytes free\n"
     ]
    }
   ],
   "source": [
    "ls"
   ]
  },
  {
   "cell_type": "code",
   "execution_count": 22,
   "id": "2712bf61",
   "metadata": {},
   "outputs": [
    {
     "data": {
      "text/plain": [
       "30"
      ]
     },
     "execution_count": 22,
     "metadata": {},
     "output_type": "execute_result"
    }
   ],
   "source": [
    "f.write('this is my first file to write')"
   ]
  },
  {
   "cell_type": "code",
   "execution_count": 23,
   "id": "565b31bd",
   "metadata": {},
   "outputs": [],
   "source": [
    "f.close()"
   ]
  },
  {
   "cell_type": "code",
   "execution_count": 34,
   "id": "2ed20c42",
   "metadata": {},
   "outputs": [],
   "source": [
    "f=open('test.txt','r')"
   ]
  },
  {
   "cell_type": "code",
   "execution_count": 35,
   "id": "4eff3ff5",
   "metadata": {},
   "outputs": [],
   "source": [
    "data=f.read()"
   ]
  },
  {
   "cell_type": "code",
   "execution_count": 37,
   "id": "59c813c7",
   "metadata": {},
   "outputs": [
    {
     "data": {
      "text/plain": [
       "'this is my first file to write'"
      ]
     },
     "execution_count": 37,
     "metadata": {},
     "output_type": "execute_result"
    }
   ],
   "source": [
    "data"
   ]
  },
  {
   "cell_type": "code",
   "execution_count": 38,
   "id": "713522e2",
   "metadata": {},
   "outputs": [
    {
     "data": {
      "text/plain": [
       "''"
      ]
     },
     "execution_count": 38,
     "metadata": {},
     "output_type": "execute_result"
    }
   ],
   "source": [
    "f.readline()"
   ]
  },
  {
   "cell_type": "code",
   "execution_count": 39,
   "id": "f9638b30",
   "metadata": {},
   "outputs": [
    {
     "data": {
      "text/plain": [
       "0"
      ]
     },
     "execution_count": 39,
     "metadata": {},
     "output_type": "execute_result"
    }
   ],
   "source": [
    "f.seek(0)"
   ]
  },
  {
   "cell_type": "code",
   "execution_count": 40,
   "id": "455621d0",
   "metadata": {},
   "outputs": [
    {
     "data": {
      "text/plain": [
       "'this is my first file to write'"
      ]
     },
     "execution_count": 40,
     "metadata": {},
     "output_type": "execute_result"
    }
   ],
   "source": [
    "f.readline()"
   ]
  },
  {
   "cell_type": "code",
   "execution_count": 41,
   "id": "8aa0ddac",
   "metadata": {},
   "outputs": [],
   "source": [
    "data1=open('test.txt','r')"
   ]
  },
  {
   "cell_type": "code",
   "execution_count": 42,
   "id": "49d4d847",
   "metadata": {},
   "outputs": [
    {
     "name": "stdout",
     "output_type": "stream",
     "text": [
      "this is my first file to write\n"
     ]
    }
   ],
   "source": [
    "for i in data1:\n",
    "    print(i)"
   ]
  },
  {
   "cell_type": "code",
   "execution_count": 50,
   "id": "b322fde0",
   "metadata": {},
   "outputs": [],
   "source": [
    "data1.close()"
   ]
  },
  {
   "cell_type": "code",
   "execution_count": 51,
   "id": "caad65f3",
   "metadata": {},
   "outputs": [],
   "source": [
    "import os"
   ]
  },
  {
   "cell_type": "code",
   "execution_count": 52,
   "id": "ff2574b4",
   "metadata": {},
   "outputs": [
    {
     "data": {
      "text/plain": [
       "30"
      ]
     },
     "execution_count": 52,
     "metadata": {},
     "output_type": "execute_result"
    }
   ],
   "source": [
    "os.path.getsize('test.txt')"
   ]
  },
  {
   "cell_type": "code",
   "execution_count": 53,
   "id": "70ab1517",
   "metadata": {},
   "outputs": [
    {
     "ename": "PermissionError",
     "evalue": "[WinError 32] The process cannot access the file because it is being used by another process: 'test.txt'",
     "output_type": "error",
     "traceback": [
      "\u001b[1;31m---------------------------------------------------------------------------\u001b[0m",
      "\u001b[1;31mPermissionError\u001b[0m                           Traceback (most recent call last)",
      "\u001b[1;32m~\\AppData\\Local\\Temp\\ipykernel_33600\\3744720926.py\u001b[0m in \u001b[0;36m<module>\u001b[1;34m\u001b[0m\n\u001b[1;32m----> 1\u001b[1;33m \u001b[0mos\u001b[0m\u001b[1;33m.\u001b[0m\u001b[0mremove\u001b[0m\u001b[1;33m(\u001b[0m\u001b[1;34m'test.txt'\u001b[0m\u001b[1;33m)\u001b[0m\u001b[1;33m\u001b[0m\u001b[1;33m\u001b[0m\u001b[0m\n\u001b[0m",
      "\u001b[1;31mPermissionError\u001b[0m: [WinError 32] The process cannot access the file because it is being used by another process: 'test.txt'"
     ]
    }
   ],
   "source": [
    "os.remove('test.txt')"
   ]
  },
  {
   "cell_type": "code",
   "execution_count": null,
   "id": "66c08116",
   "metadata": {},
   "outputs": [],
   "source": []
  },
  {
   "cell_type": "code",
   "execution_count": 58,
   "id": "0660e015",
   "metadata": {},
   "outputs": [],
   "source": [
    "f=open('text1.txt','w')"
   ]
  },
  {
   "cell_type": "code",
   "execution_count": 59,
   "id": "55414ad7",
   "metadata": {},
   "outputs": [
    {
     "data": {
      "text/plain": [
       "114"
      ]
     },
     "execution_count": 59,
     "metadata": {},
     "output_type": "execute_result"
    }
   ],
   "source": [
    "f.write('this is my fileData Science Master course is highly curated and uniquely designed according to the latest industry')"
   ]
  },
  {
   "cell_type": "code",
   "execution_count": 60,
   "id": "33337eec",
   "metadata": {},
   "outputs": [],
   "source": [
    "f.close()"
   ]
  },
  {
   "cell_type": "code",
   "execution_count": 63,
   "id": "d02f9ede",
   "metadata": {},
   "outputs": [],
   "source": [
    "os.rename('text1.txt','new.txt')"
   ]
  },
  {
   "cell_type": "code",
   "execution_count": 64,
   "id": "a375e33b",
   "metadata": {},
   "outputs": [
    {
     "name": "stdout",
     "output_type": "stream",
     "text": [
      " Volume in drive C is OS\n",
      " Volume Serial Number is D07D-FBA4\n",
      "\n",
      " Directory of C:\\Users\\kmrsh\\OneDrive\\Documents\\PW SKills\\Files\n",
      "\n",
      "13-02-2023  19:01    <DIR>          .\n",
      "13-02-2023  18:39    <DIR>          ..\n",
      "13-02-2023  18:45    <DIR>          .ipynb_checkpoints\n",
      "13-02-2023  19:00               114 new.txt\n",
      "13-02-2023  18:50                30 test.txt\n",
      "13-02-2023  18:59             7,939 working with files.ipynb\n",
      "               3 File(s)          8,083 bytes\n",
      "               3 Dir(s)  389,916,848,128 bytes free\n"
     ]
    }
   ],
   "source": [
    "ls"
   ]
  },
  {
   "cell_type": "code",
   "execution_count": 65,
   "id": "2d1573a9",
   "metadata": {},
   "outputs": [],
   "source": [
    "import shutil"
   ]
  },
  {
   "cell_type": "code",
   "execution_count": 66,
   "id": "9e32ce05",
   "metadata": {},
   "outputs": [
    {
     "data": {
      "text/plain": [
       "'copy_new.txt'"
      ]
     },
     "execution_count": 66,
     "metadata": {},
     "output_type": "execute_result"
    }
   ],
   "source": [
    "shutil.copy('new.txt','copy_new.txt')"
   ]
  },
  {
   "cell_type": "code",
   "execution_count": 69,
   "id": "4c678537",
   "metadata": {},
   "outputs": [
    {
     "name": "stdout",
     "output_type": "stream",
     "text": [
      "this is my fileData Science Master course is highly curated and uniquely designed according to the latest industry\n"
     ]
    }
   ],
   "source": [
    "with open('new.txt','r') as f:\n",
    "    print(f.read())"
   ]
  },
  {
   "cell_type": "code",
   "execution_count": null,
   "id": "f3f11c13",
   "metadata": {},
   "outputs": [],
   "source": []
  }
 ],
 "metadata": {
  "kernelspec": {
   "display_name": "Python 3 (ipykernel)",
   "language": "python",
   "name": "python3"
  },
  "language_info": {
   "codemirror_mode": {
    "name": "ipython",
    "version": 3
   },
   "file_extension": ".py",
   "mimetype": "text/x-python",
   "name": "python",
   "nbconvert_exporter": "python",
   "pygments_lexer": "ipython3",
   "version": "3.9.13"
  }
 },
 "nbformat": 4,
 "nbformat_minor": 5
}
