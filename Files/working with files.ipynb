{
 "cells": [
  {
   "cell_type": "code",
   "execution_count": 17,
   "id": "aa58c73f",
   "metadata": {},
   "outputs": [],
   "source": [
    "f=open('test.txt','w')"
   ]
  },
  {
   "cell_type": "code",
   "execution_count": 18,
   "id": "1694ea62",
   "metadata": {},
   "outputs": [
    {
     "data": {
      "text/plain": [
       "'C:\\\\Users\\\\kmrsh\\\\OneDrive\\\\Documents\\\\PW SKills\\\\Files'"
      ]
     },
     "execution_count": 18,
     "metadata": {},
     "output_type": "execute_result"
    }
   ],
   "source": [
    "pwd"
   ]
  },
  {
   "cell_type": "code",
   "execution_count": 19,
   "id": "6789f96e",
   "metadata": {},
   "outputs": [
    {
     "name": "stdout",
     "output_type": "stream",
     "text": [
      " Volume in drive C is OS\n",
      " Volume Serial Number is D07D-FBA4\n",
      "\n",
      " Directory of C:\\Users\\kmrsh\\OneDrive\\Documents\\PW SKills\\Files\n",
      "\n",
      "13-02-2023  18:49    <DIR>          .\n",
      "13-02-2023  18:39    <DIR>          ..\n",
      "13-02-2023  18:45    <DIR>          .ipynb_checkpoints\n",
      "13-02-2023  18:50                 0 test.txt\n",
      "13-02-2023  18:49             4,180 working with files.ipynb\n",
      "               2 File(s)          4,180 bytes\n",
      "               3 Dir(s)  389,909,463,040 bytes free\n"
     ]
    }
   ],
   "source": [
    "ls\n"
   ]
  },
  {
   "cell_type": "code",
   "execution_count": 20,
   "id": "8135a04c",
   "metadata": {},
   "outputs": [
    {
     "name": "stdout",
     "output_type": "stream",
     "text": [
      "[WinError 2] The system cannot find the file specified: 'work'\n",
      "C:\\Users\\kmrsh\\OneDrive\\Documents\\PW SKills\\Files\n"
     ]
    }
   ],
   "source": [
    "cd work"
   ]
  },
  {
   "cell_type": "code",
   "execution_count": 21,
   "id": "211dc51d",
   "metadata": {},
   "outputs": [
    {
     "name": "stdout",
     "output_type": "stream",
     "text": [
      " Volume in drive C is OS\n",
      " Volume Serial Number is D07D-FBA4\n",
      "\n",
      " Directory of C:\\Users\\kmrsh\\OneDrive\\Documents\\PW SKills\\Files\n",
      "\n",
      "13-02-2023  18:49    <DIR>          .\n",
      "13-02-2023  18:39    <DIR>          ..\n",
      "13-02-2023  18:45    <DIR>          .ipynb_checkpoints\n",
      "13-02-2023  18:50                 0 test.txt\n",
      "13-02-2023  18:49             4,180 working with files.ipynb\n",
      "               2 File(s)          4,180 bytes\n",
      "               3 Dir(s)  389,909,377,024 bytes free\n"
     ]
    }
   ],
   "source": [
    "ls"
   ]
  },
  {
   "cell_type": "code",
   "execution_count": 22,
   "id": "f4a0b734",
   "metadata": {},
   "outputs": [
    {
     "data": {
      "text/plain": [
       "30"
      ]
     },
     "execution_count": 22,
     "metadata": {},
     "output_type": "execute_result"
    }
   ],
   "source": [
    "f.write('this is my first file to write')"
   ]
  },
  {
   "cell_type": "code",
   "execution_count": 23,
   "id": "8a60841a",
   "metadata": {},
   "outputs": [],
   "source": [
    "f.close()"
   ]
  },
  {
   "cell_type": "code",
   "execution_count": 34,
   "id": "185dad61",
   "metadata": {},
   "outputs": [],
   "source": [
    "f=open('test.txt','r')"
   ]
  },
  {
   "cell_type": "code",
   "execution_count": 35,
   "id": "4d17a240",
   "metadata": {},
   "outputs": [],
   "source": [
    "data=f.read()"
   ]
  },
  {
   "cell_type": "code",
   "execution_count": 37,
   "id": "dbdd941e",
   "metadata": {},
   "outputs": [
    {
     "data": {
      "text/plain": [
       "'this is my first file to write'"
      ]
     },
     "execution_count": 37,
     "metadata": {},
     "output_type": "execute_result"
    }
   ],
   "source": [
    "data"
   ]
  },
  {
   "cell_type": "code",
   "execution_count": 38,
   "id": "8a265f86",
   "metadata": {},
   "outputs": [
    {
     "data": {
      "text/plain": [
       "''"
      ]
     },
     "execution_count": 38,
     "metadata": {},
     "output_type": "execute_result"
    }
   ],
   "source": [
    "f.readline()"
   ]
  },
  {
   "cell_type": "code",
   "execution_count": 39,
   "id": "8e8b505e",
   "metadata": {},
   "outputs": [
    {
     "data": {
      "text/plain": [
       "0"
      ]
     },
     "execution_count": 39,
     "metadata": {},
     "output_type": "execute_result"
    }
   ],
   "source": [
    "f.seek(0)"
   ]
  },
  {
   "cell_type": "code",
   "execution_count": 40,
   "id": "e0003e93",
   "metadata": {},
   "outputs": [
    {
     "data": {
      "text/plain": [
       "'this is my first file to write'"
      ]
     },
     "execution_count": 40,
     "metadata": {},
     "output_type": "execute_result"
    }
   ],
   "source": [
    "f.readline()"
   ]
  },
  {
   "cell_type": "code",
   "execution_count": 41,
   "id": "ab2a5726",
   "metadata": {},
   "outputs": [],
   "source": [
    "data1=open('test.txt','r')"
   ]
  },
  {
   "cell_type": "code",
   "execution_count": 42,
   "id": "78c087a1",
   "metadata": {},
   "outputs": [
    {
     "name": "stdout",
     "output_type": "stream",
     "text": [
      "this is my first file to write\n"
     ]
    }
   ],
   "source": [
    "for i in data1:\n",
    "    print(i)"
   ]
  },
  {
   "cell_type": "code",
   "execution_count": 50,
   "id": "669fcfd3",
   "metadata": {},
   "outputs": [],
   "source": [
    "data1.close()"
   ]
  },
  {
   "cell_type": "code",
   "execution_count": 51,
   "id": "25e14814",
   "metadata": {},
   "outputs": [],
   "source": [
    "import os"
   ]
  },
  {
   "cell_type": "code",
   "execution_count": 52,
   "id": "9e54d198",
   "metadata": {},
   "outputs": [
    {
     "data": {
      "text/plain": [
       "30"
      ]
     },
     "execution_count": 52,
     "metadata": {},
     "output_type": "execute_result"
    }
   ],
   "source": [
    "os.path.getsize('test.txt')"
   ]
  },
  {
   "cell_type": "code",
   "execution_count": 53,
   "id": "ce0b4b84",
   "metadata": {},
   "outputs": [
    {
     "ename": "PermissionError",
     "evalue": "[WinError 32] The process cannot access the file because it is being used by another process: 'test.txt'",
     "output_type": "error",
     "traceback": [
      "\u001b[1;31m---------------------------------------------------------------------------\u001b[0m",
      "\u001b[1;31mPermissionError\u001b[0m                           Traceback (most recent call last)",
      "\u001b[1;32m~\\AppData\\Local\\Temp\\ipykernel_33600\\3744720926.py\u001b[0m in \u001b[0;36m<module>\u001b[1;34m\u001b[0m\n\u001b[1;32m----> 1\u001b[1;33m \u001b[0mos\u001b[0m\u001b[1;33m.\u001b[0m\u001b[0mremove\u001b[0m\u001b[1;33m(\u001b[0m\u001b[1;34m'test.txt'\u001b[0m\u001b[1;33m)\u001b[0m\u001b[1;33m\u001b[0m\u001b[1;33m\u001b[0m\u001b[0m\n\u001b[0m",
      "\u001b[1;31mPermissionError\u001b[0m: [WinError 32] The process cannot access the file because it is being used by another process: 'test.txt'"
     ]
    }
   ],
   "source": [
    "os.remove('test.txt')"
   ]
  },
  {
   "cell_type": "code",
   "execution_count": null,
   "id": "d9039e03",
   "metadata": {},
   "outputs": [],
   "source": []
  },
  {
   "cell_type": "code",
   "execution_count": 58,
   "id": "013dc9e3",
   "metadata": {},
   "outputs": [],
   "source": [
    "f=open('text1.txt','w')"
   ]
  },
  {
   "cell_type": "code",
   "execution_count": 59,
   "id": "171fd43f",
   "metadata": {},
   "outputs": [
    {
     "data": {
      "text/plain": [
       "114"
      ]
     },
     "execution_count": 59,
     "metadata": {},
     "output_type": "execute_result"
    }
   ],
   "source": [
    "f.write('this is my fileData Science Master course is highly curated and uniquely designed according to the latest industry')"
   ]
  },
  {
   "cell_type": "code",
   "execution_count": 60,
   "id": "bab87c11",
   "metadata": {},
   "outputs": [],
   "source": [
    "f.close()"
   ]
  },
  {
   "cell_type": "code",
   "execution_count": 63,
   "id": "693373cd",
   "metadata": {},
   "outputs": [],
   "source": [
    "os.rename('text1.txt','new.txt')"
   ]
  },
  {
   "cell_type": "code",
   "execution_count": 64,
   "id": "506fdb8c",
   "metadata": {},
   "outputs": [
    {
     "name": "stdout",
     "output_type": "stream",
     "text": [
      " Volume in drive C is OS\n",
      " Volume Serial Number is D07D-FBA4\n",
      "\n",
      " Directory of C:\\Users\\kmrsh\\OneDrive\\Documents\\PW SKills\\Files\n",
      "\n",
      "13-02-2023  19:01    <DIR>          .\n",
      "13-02-2023  18:39    <DIR>          ..\n",
      "13-02-2023  18:45    <DIR>          .ipynb_checkpoints\n",
      "13-02-2023  19:00               114 new.txt\n",
      "13-02-2023  18:50                30 test.txt\n",
      "13-02-2023  18:59             7,939 working with files.ipynb\n",
      "               3 File(s)          8,083 bytes\n",
      "               3 Dir(s)  389,916,848,128 bytes free\n"
     ]
    }
   ],
   "source": [
    "ls"
   ]
  },
  {
   "cell_type": "code",
   "execution_count": 65,
   "id": "5991263b",
   "metadata": {},
   "outputs": [],
   "source": [
    "import shutil"
   ]
  },
  {
   "cell_type": "code",
   "execution_count": 66,
   "id": "c8c7bc91",
   "metadata": {},
   "outputs": [
    {
     "data": {
      "text/plain": [
       "'copy_new.txt'"
      ]
     },
     "execution_count": 66,
     "metadata": {},
     "output_type": "execute_result"
    }
   ],
   "source": [
    "shutil.copy('new.txt','copy_new.txt')"
   ]
  },
  {
   "cell_type": "code",
   "execution_count": 69,
   "id": "bf390cd4",
   "metadata": {},
   "outputs": [
    {
     "name": "stdout",
     "output_type": "stream",
     "text": [
      "this is my fileData Science Master course is highly curated and uniquely designed according to the latest industry\n"
     ]
    }
   ],
   "source": [
    "with open('new.txt','r') as f:\n",
    "    print(f.read())"
   ]
  },
  {
   "cell_type": "code",
   "execution_count": null,
   "id": "4c433570",
   "metadata": {},
   "outputs": [],
   "source": []
  }
 ],
 "metadata": {
  "kernelspec": {
   "display_name": "Python 3 (ipykernel)",
   "language": "python",
   "name": "python3"
  },
  "language_info": {
   "codemirror_mode": {
    "name": "ipython",
    "version": 3
   },
   "file_extension": ".py",
   "mimetype": "text/x-python",
   "name": "python",
   "nbconvert_exporter": "python",
   "pygments_lexer": "ipython3",
   "version": "3.9.13"
  }
 },
 "nbformat": 4,
 "nbformat_minor": 5
}
