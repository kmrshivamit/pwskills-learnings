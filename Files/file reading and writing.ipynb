{
 "cells": [
  {
   "cell_type": "code",
   "execution_count": 1,
   "id": "7708ab66",
   "metadata": {},
   "outputs": [],
   "source": [
    "data={'name':'Shivam',\n",
    "     'mail_id':'mail_id',\n",
    "     'phone_no':9204207401,\n",
    "     'subject':['data science','big data','data analytics']}"
   ]
  },
  {
   "cell_type": "code",
   "execution_count": 3,
   "id": "673a3532",
   "metadata": {},
   "outputs": [],
   "source": [
    "import json"
   ]
  },
  {
   "cell_type": "code",
   "execution_count": 5,
   "id": "a610821d",
   "metadata": {},
   "outputs": [],
   "source": [
    "with open('data.json','w') as f:\n",
    "    json.dump(data,f)"
   ]
  },
  {
   "cell_type": "code",
   "execution_count": 6,
   "id": "ca8443f2",
   "metadata": {},
   "outputs": [],
   "source": [
    "with open('data.json','r') as f:\n",
    "    data1=json.load(f)"
   ]
  },
  {
   "cell_type": "code",
   "execution_count": 7,
   "id": "2041292a",
   "metadata": {},
   "outputs": [
    {
     "data": {
      "text/plain": [
       "{'name': 'Shivam',\n",
       " 'mail_id': 'mail_id',\n",
       " 'phone_no': 9204207401,\n",
       " 'subject': ['data science', 'big data', 'data analytics']}"
      ]
     },
     "execution_count": 7,
     "metadata": {},
     "output_type": "execute_result"
    }
   ],
   "source": [
    "\n",
    "data1"
   ]
  },
  {
   "cell_type": "code",
   "execution_count": 8,
   "id": "1e67023f",
   "metadata": {},
   "outputs": [],
   "source": [
    "import csv"
   ]
  },
  {
   "cell_type": "code",
   "execution_count": 16,
   "id": "cc62b47b",
   "metadata": {},
   "outputs": [],
   "source": [
    "data=[['name','email_id','phone_no'],\n",
    "     ['sudh','sudh@gmail.com','9204207401'],\n",
    "      ['krish','krish@gmail.com',234422]\n",
    "     ]"
   ]
  },
  {
   "cell_type": "code",
   "execution_count": 17,
   "id": "2aa8f197",
   "metadata": {},
   "outputs": [],
   "source": [
    "with open('data.csv','w') as f:\n",
    "    writer=csv.writer(f)\n",
    "    for i in  data:\n",
    "        writer.writerow(i)"
   ]
  },
  {
   "cell_type": "code",
   "execution_count": 18,
   "id": "216bc603",
   "metadata": {},
   "outputs": [
    {
     "name": "stdout",
     "output_type": "stream",
     "text": [
      "['name', 'email_id', 'phone_no']\n",
      "[]\n",
      "['sudh', 'sudh@gmail.com', '9204207401']\n",
      "[]\n",
      "['krish', 'krish@gmail.com', '234422']\n",
      "[]\n"
     ]
    }
   ],
   "source": [
    "with open('data.csv','r') as f:\n",
    "    read_data=csv.reader(f)\n",
    "    for i in read_data:\n",
    "        print(i)\n",
    "    "
   ]
  },
  {
   "cell_type": "code",
   "execution_count": 20,
   "id": "f433cc15",
   "metadata": {},
   "outputs": [],
   "source": [
    "with open('test4.bin','wb') as f:\n",
    "    f.write(b'\\x01\\x02\\x03')"
   ]
  },
  {
   "cell_type": "code",
   "execution_count": 21,
   "id": "40c9b5db",
   "metadata": {},
   "outputs": [
    {
     "name": "stdout",
     "output_type": "stream",
     "text": [
      "b'\\x01\\x02\\x03'\n"
     ]
    }
   ],
   "source": [
    "with open('test4.bin','rb') as f:\n",
    "    print(f.read())"
   ]
  },
  {
   "cell_type": "code",
   "execution_count": null,
   "id": "bb1b474b",
   "metadata": {},
   "outputs": [],
   "source": []
  }
 ],
 "metadata": {
  "kernelspec": {
   "display_name": "Python 3 (ipykernel)",
   "language": "python",
   "name": "python3"
  },
  "language_info": {
   "codemirror_mode": {
    "name": "ipython",
    "version": 3
   },
   "file_extension": ".py",
   "mimetype": "text/x-python",
   "name": "python",
   "nbconvert_exporter": "python",
   "pygments_lexer": "ipython3",
   "version": "3.9.13"
  }
 },
 "nbformat": 4,
 "nbformat_minor": 5
}
