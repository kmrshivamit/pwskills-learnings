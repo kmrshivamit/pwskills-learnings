{
 "cells": [
  {
   "cell_type": "markdown",
   "id": "5e271c21",
   "metadata": {},
   "source": [
    "# Handling Outliers"
   ]
  },
  {
   "cell_type": "markdown",
   "id": "3e733ebd",
   "metadata": {},
   "source": [
    "# "
   ]
  },
  {
   "cell_type": "markdown",
   "id": "c0719afc",
   "metadata": {},
   "source": [
    "##5 number Summary\n",
    "1. minimum value\n",
    "2. Q1- 25 percentile\n",
    "3. Median\n",
    "4. Q3- 75 percentile\n",
    "5. Maximum"
   ]
  },
  {
   "cell_type": "code",
   "execution_count": 47,
   "id": "30503ee2",
   "metadata": {},
   "outputs": [],
   "source": [
    "import numpy as np\n",
    "lst_marks=[-100,45,32,56,75,89,54,32,89,90,87,67,54,45,98,99,67,74,1000,1100]"
   ]
  },
  {
   "cell_type": "code",
   "execution_count": 48,
   "id": "701dc59b",
   "metadata": {},
   "outputs": [],
   "source": [
    "lst_marks.sort(reverse=True)"
   ]
  },
  {
   "cell_type": "code",
   "execution_count": 49,
   "id": "ee8b8977",
   "metadata": {},
   "outputs": [
    {
     "name": "stdout",
     "output_type": "stream",
     "text": [
      "[1100, 1000, 99, 98, 90, 89, 89, 87, 75, 74, 67, 67, 56, 54, 54, 45, 45, 32, 32, -100]\n"
     ]
    }
   ],
   "source": [
    "print(lst_marks)"
   ]
  },
  {
   "cell_type": "code",
   "execution_count": 50,
   "id": "a1cd3b3c",
   "metadata": {},
   "outputs": [
    {
     "data": {
      "text/plain": [
       "array([-100.  ,   51.75,   70.5 ,   89.25, 1100.  ])"
      ]
     },
     "execution_count": 50,
     "metadata": {},
     "output_type": "execute_result"
    }
   ],
   "source": [
    "np.percentile(lst_marks,[0,25,50,75,100])"
   ]
  },
  {
   "cell_type": "code",
   "execution_count": 51,
   "id": "aec38d4d",
   "metadata": {},
   "outputs": [],
   "source": [
    "## [Lower Fence<----> Higher Fence]"
   ]
  },
  {
   "cell_type": "code",
   "execution_count": 53,
   "id": "9d9958b0",
   "metadata": {},
   "outputs": [
    {
     "data": {
      "text/plain": [
       "array([51.75])"
      ]
     },
     "execution_count": 53,
     "metadata": {},
     "output_type": "execute_result"
    }
   ],
   "source": [
    "Q1=np.percentile(lst_marks,[25])\n",
    "Q1"
   ]
  },
  {
   "cell_type": "code",
   "execution_count": 54,
   "id": "72d5dd5b",
   "metadata": {},
   "outputs": [],
   "source": [
    "minimum,Q1,Q2,Q3,maximum=np.quantile(lst_marks,[0,0.25,0.50,0.75,1.0])"
   ]
  },
  {
   "cell_type": "code",
   "execution_count": 55,
   "id": "5060127d",
   "metadata": {},
   "outputs": [
    {
     "data": {
      "text/plain": [
       "37.5"
      ]
     },
     "execution_count": 55,
     "metadata": {},
     "output_type": "execute_result"
    }
   ],
   "source": [
    "IQR=Q3-Q1\n",
    "IQR"
   ]
  },
  {
   "cell_type": "code",
   "execution_count": 58,
   "id": "864b2b2d",
   "metadata": {},
   "outputs": [],
   "source": [
    "lower_fence=Q1-1.5*(IQR)\n",
    "higher_fence=Q3+1.5*(IQR)"
   ]
  },
  {
   "cell_type": "code",
   "execution_count": 59,
   "id": "1303972f",
   "metadata": {},
   "outputs": [
    {
     "data": {
      "text/plain": [
       "(-4.5, 145.5)"
      ]
     },
     "execution_count": 59,
     "metadata": {},
     "output_type": "execute_result"
    }
   ],
   "source": [
    "lower_fence,higher_fence"
   ]
  },
  {
   "cell_type": "code",
   "execution_count": 62,
   "id": "e8b32164",
   "metadata": {},
   "outputs": [
    {
     "name": "stdout",
     "output_type": "stream",
     "text": [
      "This element is not an outlier 99\n",
      "This element is not an outlier 98\n",
      "This element is not an outlier 90\n",
      "This element is not an outlier 89\n",
      "This element is not an outlier 89\n",
      "This element is not an outlier 87\n",
      "This element is not an outlier 75\n",
      "This element is not an outlier 74\n",
      "This element is not an outlier 67\n",
      "This element is not an outlier 67\n",
      "This element is not an outlier 56\n",
      "This element is not an outlier 54\n",
      "This element is not an outlier 54\n",
      "This element is not an outlier 45\n",
      "This element is not an outlier 45\n",
      "This element is not an outlier 32\n",
      "This element is not an outlier 32\n"
     ]
    }
   ],
   "source": [
    "outliers=[]\n",
    "for i in lst_marks:\n",
    "    if i>=0.75 and i<=142:\n",
    "        print('This element is not an outlier',i)\n",
    "    else:\n",
    "        outliers.append(i)"
   ]
  },
  {
   "cell_type": "code",
   "execution_count": 64,
   "id": "84cb3ccb",
   "metadata": {},
   "outputs": [
    {
     "data": {
      "text/plain": [
       "[1100, 1000, -100]"
      ]
     },
     "execution_count": 64,
     "metadata": {},
     "output_type": "execute_result"
    }
   ],
   "source": [
    "outliers"
   ]
  },
  {
   "cell_type": "code",
   "execution_count": 72,
   "id": "952a96c6",
   "metadata": {},
   "outputs": [
    {
     "name": "stderr",
     "output_type": "stream",
     "text": [
      "C:\\Users\\kmrsh\\anaconda3\\lib\\site-packages\\seaborn\\_decorators.py:36: FutureWarning: Pass the following variable as a keyword arg: x. From version 0.12, the only valid positional argument will be `data`, and passing other arguments without an explicit keyword will result in an error or misinterpretation.\n",
      "  warnings.warn(\n"
     ]
    },
    {
     "data": {
      "text/plain": [
       "<AxesSubplot:>"
      ]
     },
     "execution_count": 72,
     "metadata": {},
     "output_type": "execute_result"
    },
    {
     "data": {
      "image/png": "[encoded data removed]",
      "text/plain": [
       "<Figure size 640x480 with 1 Axes>"
      ]
     },
     "metadata": {},
     "output_type": "display_data"
    }
   ],
   "source": [
    "sns.boxplot(lst_marks)"
   ]
  },
  {
   "cell_type": "code",
   "execution_count": 68,
   "id": "b760c96a",
   "metadata": {},
   "outputs": [
    {
     "data": {
      "text/plain": [
       "{32, 45, 54, 56, 67, 74, 75, 87, 89, 90, 98, 99}"
      ]
     },
     "execution_count": 68,
     "metadata": {},
     "output_type": "execute_result"
    }
   ],
   "source": [
    "set(lst_marks)-set(outliers)"
   ]
  },
  {
   "cell_type": "code",
   "execution_count": null,
   "id": "e3592e64",
   "metadata": {},
   "outputs": [],
   "source": []
  },
  {
   "cell_type": "code",
   "execution_count": 65,
   "id": "1bfed979",
   "metadata": {},
   "outputs": [],
   "source": [
    "import seaborn as sns"
   ]
  },
  {
   "cell_type": "code",
   "execution_count": 71,
   "id": "0fe519c3",
   "metadata": {},
   "outputs": [
    {
     "data": {
      "text/plain": [
       "<AxesSubplot:>"
      ]
     },
     "execution_count": 71,
     "metadata": {},
     "output_type": "execute_result"
    },
    {
     "data": {
      "image/png": "[encoded data removed]",
      "text/plain": [
       "<Figure size 640x480 with 1 Axes>"
      ]
     },
     "metadata": {},
     "output_type": "display_data"
    }
   ],
   "source": [
    "sns.boxplot(list(set(lst_marks)-set(outliers)))"
   ]
  },
  {
   "cell_type": "code",
   "execution_count": null,
   "id": "46b4832c",
   "metadata": {},
   "outputs": [],
   "source": []
  },
  {
   "cell_type": "code",
   "execution_count": null,
   "id": "28ba1749",
   "metadata": {},
   "outputs": [],
   "source": [
    "sns.boxplot(lst_marks)"
   ]
  }
 ],
 "metadata": {
  "kernelspec": {
   "display_name": "Python 3 (ipykernel)",
   "language": "python",
   "name": "python3"
  },
  "language_info": {
   "codemirror_mode": {
    "name": "ipython",
    "version": 3
   },
   "file_extension": ".py",
   "mimetype": "text/x-python",
   "name": "python",
   "nbconvert_exporter": "python",
   "pygments_lexer": "ipython3",
   "version": "3.9.13"
  }
 },
 "nbformat": 4,
 "nbformat_minor": 5
}
