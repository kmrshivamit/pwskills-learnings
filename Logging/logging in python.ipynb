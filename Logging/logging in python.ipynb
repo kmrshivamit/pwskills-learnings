{
 "cells": [
  {
   "cell_type": "code",
   "execution_count": 1,
   "id": "c9d79e29",
   "metadata": {},
   "outputs": [
    {
     "name": "stdout",
     "output_type": "stream",
     "text": [
      "this is my print\n"
     ]
    }
   ],
   "source": [
    "print('this is my print')"
   ]
  },
  {
   "cell_type": "code",
   "execution_count": 2,
   "id": "142f4f64",
   "metadata": {},
   "outputs": [],
   "source": [
    "import logging"
   ]
  },
  {
   "cell_type": "code",
   "execution_count": null,
   "id": "5e22dcf7",
   "metadata": {},
   "outputs": [],
   "source": [
    "logging.basicConfig(filename='test.log',level=logging.INFO)"
   ]
  },
  {
   "cell_type": "code",
   "execution_count": null,
   "id": "55afa280",
   "metadata": {},
   "outputs": [],
   "source": [
    "logging.info(\"Log this line of execution\")"
   ]
  },
  {
   "cell_type": "code",
   "execution_count": null,
   "id": "19817139",
   "metadata": {},
   "outputs": [],
   "source": [
    "logging.critical(\"this is debug\")"
   ]
  },
  {
   "cell_type": "code",
   "execution_count": null,
   "id": "e4168b60",
   "metadata": {},
   "outputs": [],
   "source": [
    "# NOTSET\n",
    "# DEBUG\n",
    "# INFO\n",
    "# WARNING\n",
    "# ERROR\n",
    "# CRITICAL"
   ]
  },
  {
   "cell_type": "code",
   "execution_count": null,
   "id": "03ce54cf",
   "metadata": {},
   "outputs": [],
   "source": [
    "logging.warning('this is my warning')"
   ]
  },
  {
   "cell_type": "code",
   "execution_count": null,
   "id": "b7977e2a",
   "metadata": {},
   "outputs": [],
   "source": [
    "logging.shutdown()"
   ]
  },
  {
   "cell_type": "code",
   "execution_count": null,
   "id": "1590ccc3",
   "metadata": {},
   "outputs": [],
   "source": [
    "logging.basicConfig(filename='test11.log',level=logging.DEBUG,format='%(asctime)s %(message)s')"
   ]
  },
  {
   "cell_type": "code",
   "execution_count": null,
   "id": "8c428e81",
   "metadata": {},
   "outputs": [],
   "source": [
    "logging.shutdown()"
   ]
  },
  {
   "cell_type": "code",
   "execution_count": null,
   "id": "68116a69",
   "metadata": {},
   "outputs": [],
   "source": [
    "logging.info('this is my logging')"
   ]
  },
  {
   "cell_type": "code",
   "execution_count": null,
   "id": "c4e1b480",
   "metadata": {},
   "outputs": [],
   "source": [
    "logging.error('this is my error mss')"
   ]
  },
  {
   "cell_type": "code",
   "execution_count": null,
   "id": "67dee363",
   "metadata": {},
   "outputs": [],
   "source": [
    "logging.critical('this is my testing')"
   ]
  },
  {
   "cell_type": "code",
   "execution_count": null,
   "id": "fc9f57c0",
   "metadata": {},
   "outputs": [],
   "source": [
    "logging.basicConfig(filename='text')"
   ]
  },
  {
   "cell_type": "code",
   "execution_count": null,
   "id": "b1d16504",
   "metadata": {},
   "outputs": [],
   "source": [
    "logging.shutdown()"
   ]
  },
  {
   "cell_type": "code",
   "execution_count": 3,
   "id": "c2fa27f4",
   "metadata": {},
   "outputs": [],
   "source": [
    "l=[1,2,3,['shivam','shubham'],'kumar',2,3]"
   ]
  },
  {
   "cell_type": "code",
   "execution_count": 4,
   "id": "fb830676",
   "metadata": {},
   "outputs": [],
   "source": [
    "int_list=[]\n",
    "str_list=[]\n"
   ]
  },
  {
   "cell_type": "code",
   "execution_count": 5,
   "id": "7fcfa4d0",
   "metadata": {},
   "outputs": [],
   "source": [
    "logging.basicConfig(filename='example.log',level=logging.DEBUG,format='%(asctime)s %(message)s')"
   ]
  },
  {
   "cell_type": "code",
   "execution_count": 6,
   "id": "6072150b",
   "metadata": {},
   "outputs": [],
   "source": [
    "for i in l:\n",
    "    if type(i)=='list':\n",
    "        for j in i:\n",
    "            logging.info('in for loop')\n",
    "            if type(j)=='str':\n",
    "                \n",
    "                str_list.append(j)\n",
    "                logging.info(f'appended str value {j}')\n",
    "            else:\n",
    "                int_list.append(j)\n",
    "                logging.info(f'appended int value{j}')\n",
    "                \n",
    "    elif type(i)=='str':\n",
    "                \n",
    "                str_list.append(i)\n",
    "                logging.info(f'appending string value')\n",
    "    else:\n",
    "                int_list.append(i)\n",
    "                logging.info(f'apping int value')\n",
    "logging.info('end of for loop')\n",
    "                \n",
    "               \n",
    "        \n",
    "               \n",
    "    \n",
    "    \n"
   ]
  },
  {
   "cell_type": "code",
   "execution_count": null,
   "id": "5c1df2c2",
   "metadata": {},
   "outputs": [],
   "source": []
  },
  {
   "cell_type": "code",
   "execution_count": null,
   "id": "41a53ff9",
   "metadata": {},
   "outputs": [],
   "source": []
  },
  {
   "cell_type": "code",
   "execution_count": null,
   "id": "b0a3f01e",
   "metadata": {},
   "outputs": [],
   "source": []
  }
 ],
 "metadata": {
  "kernelspec": {
   "display_name": "Python 3 (ipykernel)",
   "language": "python",
   "name": "python3"
  },
  "language_info": {
   "codemirror_mode": {
    "name": "ipython",
    "version": 3
   },
   "file_extension": ".py",
   "mimetype": "text/x-python",
   "name": "python",
   "nbconvert_exporter": "python",
   "pygments_lexer": "ipython3",
   "version": "3.9.13"
  }
 },
 "nbformat": 4,
 "nbformat_minor": 5
}
