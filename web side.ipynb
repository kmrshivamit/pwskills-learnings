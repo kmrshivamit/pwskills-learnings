{
 "cells": [
  {
   "cell_type": "code",
   "execution_count": 1,
   "id": "35b17777",
   "metadata": {},
   "outputs": [],
   "source": [
    "# API\"s are used to connect homogeneous or haterogeneous applications"
   ]
  },
  {
   "cell_type": "code",
   "execution_count": 2,
   "id": "4188fc75",
   "metadata": {},
   "outputs": [],
   "source": [
    "# web api; it has protocols"
   ]
  },
  {
   "cell_type": "code",
   "execution_count": 3,
   "id": "01b57be7",
   "metadata": {},
   "outputs": [],
   "source": [
    "\n",
    "# difference between api and web api"
   ]
  },
  {
   "cell_type": "code",
   "execution_count": 4,
   "id": "c46106c2",
   "metadata": {},
   "outputs": [],
   "source": [
    "# API, TCP/IP, HTTP\n",
    "# HTTP: (Web API) GMAIL , Google\n",
    "# Offline Application: TCP/IP Between an application.\n",
    "\n",
    "\n"
   ]
  },
  {
   "cell_type": "code",
   "execution_count": 5,
   "id": "7d3cc45b",
   "metadata": {},
   "outputs": [],
   "source": [
    "# Two types of Architecture\n",
    "\n",
    "# REST and SOAP Architecture\n",
    "\n",
    "# REST: This is used for web api, http protocol, put,get,post,delete\n",
    "\n",
    "# It's always known for scability, simplicity,\n",
    "# Flexibility:\n",
    "\n",
    "# SOAP Architecture: XMl based: HTTP, SMTP,TCP/IP\n",
    "\n",
    "# Rest is easy to implement, REst is stateless protocol(it does not store transaction), functionality for catching,\n",
    "# SOAP, it is lightweight,\n",
    "# Soap is more secure,\n"
   ]
  },
  {
   "cell_type": "code",
   "execution_count": 6,
   "id": "1306d25f",
   "metadata": {},
   "outputs": [],
   "source": [
    "# RESTFUL Services"
   ]
  },
  {
   "cell_type": "code",
   "execution_count": 8,
   "id": "2b82fcd9",
   "metadata": {},
   "outputs": [],
   "source": [
    "# Representational State Transfurl Protocol"
   ]
  },
  {
   "cell_type": "code",
   "execution_count": 9,
   "id": "7f5f7474",
   "metadata": {},
   "outputs": [],
   "source": [
    "# Client-Service Architecture,\n",
    "# Stateless\n",
    "# Cacheable\n",
    "# Uniform interface\n",
    "# layered system"
   ]
  },
  {
   "cell_type": "code",
   "execution_count": null,
   "id": "65063e7f",
   "metadata": {},
   "outputs": [],
   "source": []
  }
 ],
 "metadata": {
  "kernelspec": {
   "display_name": "Python 3 (ipykernel)",
   "language": "python",
   "name": "python3"
  },
  "language_info": {
   "codemirror_mode": {
    "name": "ipython",
    "version": 3
   },
   "file_extension": ".py",
   "mimetype": "text/x-python",
   "name": "python",
   "nbconvert_exporter": "python",
   "pygments_lexer": "ipython3",
   "version": "3.9.13"
  }
 },
 "nbformat": 4,
 "nbformat_minor": 5
}
