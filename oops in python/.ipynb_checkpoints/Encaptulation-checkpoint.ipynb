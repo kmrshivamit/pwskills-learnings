{
 "cells": [
  {
   "cell_type": "code",
   "execution_count": 1,
   "id": "7aeb83f0",
   "metadata": {},
   "outputs": [],
   "source": [
    "class test:\n",
    "    \n",
    "    def __init__(self,a,b):\n",
    "        self.a=a\n",
    "        \n",
    "        self.b=b"
   ]
  },
  {
   "cell_type": "code",
   "execution_count": 3,
   "id": "ab6ac71d",
   "metadata": {},
   "outputs": [],
   "source": [
    "t=test(22,33)"
   ]
  },
  {
   "cell_type": "code",
   "execution_count": 5,
   "id": "37f06c3f",
   "metadata": {},
   "outputs": [],
   "source": [
    "t.a=222"
   ]
  },
  {
   "cell_type": "code",
   "execution_count": 6,
   "id": "ead97ad4",
   "metadata": {},
   "outputs": [
    {
     "data": {
      "text/plain": [
       "33"
      ]
     },
     "execution_count": 6,
     "metadata": {},
     "output_type": "execute_result"
    }
   ],
   "source": [
    "t.b"
   ]
  },
  {
   "cell_type": "code",
   "execution_count": 17,
   "id": "d7ce547b",
   "metadata": {},
   "outputs": [],
   "source": [
    "class car:\n",
    "    def __init__(self,year,make,model,speed):\n",
    "        self.__year=year\n",
    "        self.__make=make\n",
    "        self.__speed=0\n",
    "    def set_speed(self,speed):\n",
    "        self.__speed=0 if speed<0 else speed\n",
    "        \n",
    "    def get_speed(self):\n",
    "        return self.__speed\n",
    "    "
   ]
  },
  {
   "cell_type": "code",
   "execution_count": 18,
   "id": "a41f26d6",
   "metadata": {},
   "outputs": [],
   "source": [
    "c=car(2021,'toyata','inova',23)"
   ]
  },
  {
   "cell_type": "code",
   "execution_count": 19,
   "id": "57b92c0a",
   "metadata": {},
   "outputs": [],
   "source": [
    "c._car__year=33"
   ]
  },
  {
   "cell_type": "code",
   "execution_count": 20,
   "id": "9d1b54ad",
   "metadata": {},
   "outputs": [
    {
     "data": {
      "text/plain": [
       "33"
      ]
     },
     "execution_count": 20,
     "metadata": {},
     "output_type": "execute_result"
    }
   ],
   "source": [
    "c._car__year"
   ]
  },
  {
   "cell_type": "code",
   "execution_count": 25,
   "id": "d49ddfdf",
   "metadata": {},
   "outputs": [],
   "source": [
    "c.set_speed(55)"
   ]
  },
  {
   "cell_type": "code",
   "execution_count": 26,
   "id": "b1a0a1fc",
   "metadata": {},
   "outputs": [
    {
     "data": {
      "text/plain": [
       "55"
      ]
     },
     "execution_count": 26,
     "metadata": {},
     "output_type": "execute_result"
    }
   ],
   "source": [
    "c.get_speed()"
   ]
  },
  {
   "cell_type": "code",
   "execution_count": 46,
   "id": "f0b6b4db",
   "metadata": {},
   "outputs": [],
   "source": [
    "class bank_account:\n",
    "    def __init__(self,balance):\n",
    "        self.__balence=balance \n",
    "    def deposite(self,amount):\n",
    "        self.__balence=self.__balence+amount\n",
    "    \n",
    "    def withdaw(self,amount):\n",
    "        if self.__balence==amount:\n",
    "            self.__balence=self.__balence-amount\n",
    "            return True\n",
    "        else:\n",
    "            return False\n",
    "    def get_balance(self):\n",
    "        return self.__balence"
   ]
  },
  {
   "cell_type": "code",
   "execution_count": 47,
   "id": "b1f54033",
   "metadata": {},
   "outputs": [],
   "source": [
    "sudh=bank_account(1000)\n"
   ]
  },
  {
   "cell_type": "code",
   "execution_count": 48,
   "id": "70437554",
   "metadata": {},
   "outputs": [
    {
     "data": {
      "text/plain": [
       "1000"
      ]
     },
     "execution_count": 48,
     "metadata": {},
     "output_type": "execute_result"
    }
   ],
   "source": [
    "sudh.get_balance()"
   ]
  },
  {
   "cell_type": "code",
   "execution_count": 49,
   "id": "e0d7281e",
   "metadata": {},
   "outputs": [],
   "source": [
    "sudh.deposite(5000)"
   ]
  },
  {
   "cell_type": "code",
   "execution_count": 50,
   "id": "d07728bf",
   "metadata": {},
   "outputs": [
    {
     "data": {
      "text/plain": [
       "6000"
      ]
     },
     "execution_count": 50,
     "metadata": {},
     "output_type": "execute_result"
    }
   ],
   "source": [
    "sudh.get_balance()"
   ]
  },
  {
   "cell_type": "code",
   "execution_count": 51,
   "id": "b43a07c2",
   "metadata": {},
   "outputs": [],
   "source": [
    "sudh.deposite(1000)"
   ]
  },
  {
   "cell_type": "code",
   "execution_count": 52,
   "id": "ead10483",
   "metadata": {},
   "outputs": [
    {
     "data": {
      "text/plain": [
       "7000"
      ]
     },
     "execution_count": 52,
     "metadata": {},
     "output_type": "execute_result"
    }
   ],
   "source": [
    "sudh.get_balance()"
   ]
  },
  {
   "cell_type": "code",
   "execution_count": 53,
   "id": "c1888cbd",
   "metadata": {},
   "outputs": [
    {
     "data": {
      "text/plain": [
       "False"
      ]
     },
     "execution_count": 53,
     "metadata": {},
     "output_type": "execute_result"
    }
   ],
   "source": [
    "sudh.withdaw(9000)"
   ]
  },
  {
   "cell_type": "code",
   "execution_count": 55,
   "id": "eeece876",
   "metadata": {},
   "outputs": [
    {
     "data": {
      "text/plain": [
       "7000"
      ]
     },
     "execution_count": 55,
     "metadata": {},
     "output_type": "execute_result"
    }
   ],
   "source": [
    "sudh.get_balance()"
   ]
  },
  {
   "cell_type": "code",
   "execution_count": null,
   "id": "a44c7461",
   "metadata": {},
   "outputs": [],
   "source": []
  }
 ],
 "metadata": {
  "kernelspec": {
   "display_name": "Python 3 (ipykernel)",
   "language": "python",
   "name": "python3"
  },
  "language_info": {
   "codemirror_mode": {
    "name": "ipython",
    "version": 3
   },
   "file_extension": ".py",
   "mimetype": "text/x-python",
   "name": "python",
   "nbconvert_exporter": "python",
   "pygments_lexer": "ipython3",
   "version": "3.9.13"
  }
 },
 "nbformat": 4,
 "nbformat_minor": 5
}
