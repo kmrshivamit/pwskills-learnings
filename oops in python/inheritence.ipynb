{
 "cells": [
  {
   "cell_type": "code",
   "execution_count": 3,
   "id": "b481acf5",
   "metadata": {},
   "outputs": [],
   "source": [
    "class test:\n",
    "    def test_meth(self):\n",
    "        return 'this is my first class'"
   ]
  },
  {
   "cell_type": "code",
   "execution_count": 5,
   "id": "9752f039",
   "metadata": {},
   "outputs": [],
   "source": [
    "class child_test(test):\n",
    "    pass"
   ]
  },
  {
   "cell_type": "code",
   "execution_count": 6,
   "id": "31bafee7",
   "metadata": {},
   "outputs": [],
   "source": [
    "child_test_obj=child_test()"
   ]
  },
  {
   "cell_type": "code",
   "execution_count": 7,
   "id": "7a9fe6ff",
   "metadata": {},
   "outputs": [
    {
     "data": {
      "text/plain": [
       "'this is my first class'"
      ]
     },
     "execution_count": 7,
     "metadata": {},
     "output_type": "execute_result"
    }
   ],
   "source": [
    "child_test_obj.test_meth()"
   ]
  },
  {
   "cell_type": "code",
   "execution_count": 20,
   "id": "0ee158e5",
   "metadata": {},
   "outputs": [],
   "source": [
    "class class1:\n",
    "    def test_class1(self):\n",
    "        return 'this is a meth from class1'"
   ]
  },
  {
   "cell_type": "markdown",
   "id": "7f373c1c",
   "metadata": {},
   "source": [
    "Multilevel Inheritence"
   ]
  },
  {
   "cell_type": "code",
   "execution_count": 23,
   "id": "2fcb93c3",
   "metadata": {},
   "outputs": [],
   "source": [
    "class class2(class1):\n",
    "    def test_class2(self):\n",
    "        return 'this is a meth from class 2'"
   ]
  },
  {
   "cell_type": "code",
   "execution_count": 24,
   "id": "eb21910b",
   "metadata": {},
   "outputs": [],
   "source": [
    "class class3(class2):\n",
    "    pass\n"
   ]
  },
  {
   "cell_type": "code",
   "execution_count": 25,
   "id": "13291575",
   "metadata": {},
   "outputs": [],
   "source": [
    "obj=class3()"
   ]
  },
  {
   "cell_type": "code",
   "execution_count": 26,
   "id": "f0ce92e7",
   "metadata": {},
   "outputs": [
    {
     "data": {
      "text/plain": [
       "'this is a meth from class1'"
      ]
     },
     "execution_count": 26,
     "metadata": {},
     "output_type": "execute_result"
    }
   ],
   "source": [
    "obj.test_class1()"
   ]
  },
  {
   "cell_type": "code",
   "execution_count": 27,
   "id": "93ff3dd2",
   "metadata": {},
   "outputs": [
    {
     "data": {
      "text/plain": [
       "'this is a meth from class 2'"
      ]
     },
     "execution_count": 27,
     "metadata": {},
     "output_type": "execute_result"
    }
   ],
   "source": [
    "obj.test_class2()"
   ]
  },
  {
   "cell_type": "markdown",
   "id": "2cbb3c90",
   "metadata": {},
   "source": [
    "Multiple Inheritence"
   ]
  },
  {
   "cell_type": "code",
   "execution_count": 38,
   "id": "a79eaa0f",
   "metadata": {},
   "outputs": [],
   "source": [
    "class class1:\n",
    "    def test_class1(self):\n",
    "        return 'this is a class1'"
   ]
  },
  {
   "cell_type": "code",
   "execution_count": 39,
   "id": "bbbc968c",
   "metadata": {},
   "outputs": [],
   "source": [
    "class class2:\n",
    "    def test_class2(self):\n",
    "        return 'this is class2'"
   ]
  },
  {
   "cell_type": "code",
   "execution_count": 40,
   "id": "483d6786",
   "metadata": {},
   "outputs": [],
   "source": [
    "class class3(class1,class2):\n",
    "    pass"
   ]
  },
  {
   "cell_type": "code",
   "execution_count": 41,
   "id": "ccf27d0b",
   "metadata": {},
   "outputs": [],
   "source": [
    "obj_3=class3()"
   ]
  },
  {
   "cell_type": "code",
   "execution_count": 42,
   "id": "b30434c4",
   "metadata": {},
   "outputs": [
    {
     "data": {
      "text/plain": [
       "'this is a class1'"
      ]
     },
     "execution_count": 42,
     "metadata": {},
     "output_type": "execute_result"
    }
   ],
   "source": [
    "obj_3.test_class1()"
   ]
  },
  {
   "cell_type": "code",
   "execution_count": null,
   "id": "acc963ea",
   "metadata": {},
   "outputs": [],
   "source": []
  }
 ],
 "metadata": {
  "kernelspec": {
   "display_name": "Python 3 (ipykernel)",
   "language": "python",
   "name": "python3"
  },
  "language_info": {
   "codemirror_mode": {
    "name": "ipython",
    "version": 3
   },
   "file_extension": ".py",
   "mimetype": "text/x-python",
   "name": "python",
   "nbconvert_exporter": "python",
   "pygments_lexer": "ipython3",
   "version": "3.9.13"
  }
 },
 "nbformat": 4,
 "nbformat_minor": 5
}
