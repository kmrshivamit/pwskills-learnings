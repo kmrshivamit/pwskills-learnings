{
 "cells": [
  {
   "cell_type": "code",
   "execution_count": 1,
   "id": "4fd4d840",
   "metadata": {},
   "outputs": [],
   "source": [
    "class test:\n",
    "    \n",
    "    def __init__(self,a,b):\n",
    "        self.a=a\n",
    "        \n",
    "        self.b=b"
   ]
  },
  {
   "cell_type": "code",
   "execution_count": 3,
   "id": "1f8ed071",
   "metadata": {},
   "outputs": [],
   "source": [
    "t=test(22,33)"
   ]
  },
  {
   "cell_type": "code",
   "execution_count": 5,
   "id": "1cac0804",
   "metadata": {},
   "outputs": [],
   "source": [
    "t.a=222"
   ]
  },
  {
   "cell_type": "code",
   "execution_count": 6,
   "id": "a812b28d",
   "metadata": {},
   "outputs": [
    {
     "data": {
      "text/plain": [
       "33"
      ]
     },
     "execution_count": 6,
     "metadata": {},
     "output_type": "execute_result"
    }
   ],
   "source": [
    "t.b"
   ]
  },
  {
   "cell_type": "code",
   "execution_count": 17,
   "id": "c5f3435d",
   "metadata": {},
   "outputs": [],
   "source": [
    "class car:\n",
    "    def __init__(self,year,make,model,speed):\n",
    "        self.__year=year\n",
    "        self.__make=make\n",
    "        self.__speed=0\n",
    "    def set_speed(self,speed):\n",
    "        self.__speed=0 if speed<0 else speed\n",
    "        \n",
    "    def get_speed(self):\n",
    "        return self.__speed\n",
    "    "
   ]
  },
  {
   "cell_type": "code",
   "execution_count": 18,
   "id": "0fe342a5",
   "metadata": {},
   "outputs": [],
   "source": [
    "c=car(2021,'toyata','inova',23)"
   ]
  },
  {
   "cell_type": "code",
   "execution_count": 19,
   "id": "3e556b7b",
   "metadata": {},
   "outputs": [],
   "source": [
    "c._car__year=33"
   ]
  },
  {
   "cell_type": "code",
   "execution_count": 20,
   "id": "14392fd1",
   "metadata": {},
   "outputs": [
    {
     "data": {
      "text/plain": [
       "33"
      ]
     },
     "execution_count": 20,
     "metadata": {},
     "output_type": "execute_result"
    }
   ],
   "source": [
    "c._car__year"
   ]
  },
  {
   "cell_type": "code",
   "execution_count": 25,
   "id": "a0c90c2f",
   "metadata": {},
   "outputs": [],
   "source": [
    "c.set_speed(55)"
   ]
  },
  {
   "cell_type": "code",
   "execution_count": 26,
   "id": "2cb9897a",
   "metadata": {},
   "outputs": [
    {
     "data": {
      "text/plain": [
       "55"
      ]
     },
     "execution_count": 26,
     "metadata": {},
     "output_type": "execute_result"
    }
   ],
   "source": [
    "c.get_speed()"
   ]
  },
  {
   "cell_type": "code",
   "execution_count": 59,
   "id": "5e9973e7",
   "metadata": {},
   "outputs": [],
   "source": [
    "class bank_account:\n",
    "    def __init__(self,balance):\n",
    "        self.__balence=balance \n",
    "    def deposite(self,amount):\n",
    "        self.__balence=self.__balence+amount\n",
    "    \n",
    "    def withdaw(self,amount):\n",
    "        if self.__balence>=amount:\n",
    "            self.__balence=self.__balence-amount\n",
    "            return True\n",
    "        else:\n",
    "            return False\n",
    "    def get_balance(self):\n",
    "        return self.__balence"
   ]
  },
  {
   "cell_type": "code",
   "execution_count": 60,
   "id": "e7c584f9",
   "metadata": {},
   "outputs": [],
   "source": [
    "sudh=bank_account(1000)\n"
   ]
  },
  {
   "cell_type": "code",
   "execution_count": 61,
   "id": "31be555e",
   "metadata": {},
   "outputs": [
    {
     "data": {
      "text/plain": [
       "1000"
      ]
     },
     "execution_count": 61,
     "metadata": {},
     "output_type": "execute_result"
    }
   ],
   "source": [
    "sudh.get_balance()"
   ]
  },
  {
   "cell_type": "code",
   "execution_count": 62,
   "id": "586117a6",
   "metadata": {},
   "outputs": [],
   "source": [
    "sudh.deposite(5000)"
   ]
  },
  {
   "cell_type": "code",
   "execution_count": 63,
   "id": "fcc467ab",
   "metadata": {},
   "outputs": [
    {
     "data": {
      "text/plain": [
       "6000"
      ]
     },
     "execution_count": 63,
     "metadata": {},
     "output_type": "execute_result"
    }
   ],
   "source": [
    "sudh.get_balance()"
   ]
  },
  {
   "cell_type": "code",
   "execution_count": 64,
   "id": "915225e9",
   "metadata": {},
   "outputs": [],
   "source": [
    "sudh.deposite(1000)"
   ]
  },
  {
   "cell_type": "code",
   "execution_count": 65,
   "id": "d3c2d3b7",
   "metadata": {},
   "outputs": [
    {
     "data": {
      "text/plain": [
       "7000"
      ]
     },
     "execution_count": 65,
     "metadata": {},
     "output_type": "execute_result"
    }
   ],
   "source": [
    "sudh.get_balance()"
   ]
  },
  {
   "cell_type": "code",
   "execution_count": 66,
   "id": "8db04fce",
   "metadata": {},
   "outputs": [
    {
     "data": {
      "text/plain": [
       "False"
      ]
     },
     "execution_count": 66,
     "metadata": {},
     "output_type": "execute_result"
    }
   ],
   "source": [
    "sudh.withdaw(9000)"
   ]
  },
  {
   "cell_type": "code",
   "execution_count": 67,
   "id": "5517d610",
   "metadata": {},
   "outputs": [
    {
     "data": {
      "text/plain": [
       "7000"
      ]
     },
     "execution_count": 67,
     "metadata": {},
     "output_type": "execute_result"
    }
   ],
   "source": [
    "sudh.get_balance()"
   ]
  },
  {
   "cell_type": "code",
   "execution_count": 68,
   "id": "03aadaba",
   "metadata": {},
   "outputs": [
    {
     "data": {
      "text/plain": [
       "True"
      ]
     },
     "execution_count": 68,
     "metadata": {},
     "output_type": "execute_result"
    }
   ],
   "source": [
    "sudh.withdaw(200)"
   ]
  },
  {
   "cell_type": "code",
   "execution_count": 69,
   "id": "09b6054b",
   "metadata": {},
   "outputs": [
    {
     "data": {
      "text/plain": [
       "6800"
      ]
     },
     "execution_count": 69,
     "metadata": {},
     "output_type": "execute_result"
    }
   ],
   "source": [
    "sudh.get_balance()"
   ]
  },
  {
   "cell_type": "code",
   "execution_count": null,
   "id": "7e29c273",
   "metadata": {},
   "outputs": [],
   "source": []
  }
 ],
 "metadata": {
  "kernelspec": {
   "display_name": "Python 3 (ipykernel)",
   "language": "python",
   "name": "python3"
  },
  "language_info": {
   "codemirror_mode": {
    "name": "ipython",
    "version": 3
   },
   "file_extension": ".py",
   "mimetype": "text/x-python",
   "name": "python",
   "nbconvert_exporter": "python",
   "pygments_lexer": "ipython3",
   "version": "3.9.13"
  }
 },
 "nbformat": 4,
 "nbformat_minor": 5
}
