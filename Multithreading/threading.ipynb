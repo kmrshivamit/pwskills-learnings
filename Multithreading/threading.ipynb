{
 "cells": [
  {
   "cell_type": "code",
   "execution_count": 26,
   "id": "d6c3193b",
   "metadata": {},
   "outputs": [],
   "source": [
    "import threading \n",
    "import time"
   ]
  },
  {
   "cell_type": "code",
   "execution_count": 27,
   "id": "3c4d557d",
   "metadata": {},
   "outputs": [],
   "source": [
    "def test(id):\n",
    "    print(\"prog start %d \"%id)"
   ]
  },
  {
   "cell_type": "code",
   "execution_count": 28,
   "id": "9a0a0c96",
   "metadata": {},
   "outputs": [
    {
     "name": "stdout",
     "output_type": "stream",
     "text": [
      "prog start 45 \n"
     ]
    }
   ],
   "source": [
    "test(45)"
   ]
  },
  {
   "cell_type": "code",
   "execution_count": 29,
   "id": "eaba0b18",
   "metadata": {},
   "outputs": [],
   "source": [
    "thread=[threading.Thread(target=test,args=(i,)) for i in range(10)]"
   ]
  },
  {
   "cell_type": "code",
   "execution_count": 30,
   "id": "0a4213b7",
   "metadata": {},
   "outputs": [
    {
     "name": "stdout",
     "output_type": "stream",
     "text": [
      "prog start 0 \n",
      "prog start 1 \n",
      "prog start 2 \n",
      "prog start 3 \n",
      "prog start 4 \n",
      "prog start 5 \n",
      "prog start 6 \n",
      "prog start 7 \n",
      "prog start 8 \n",
      "prog start 9 \n"
     ]
    }
   ],
   "source": [
    "for t in thread:\n",
    "    t.start()"
   ]
  },
  {
   "cell_type": "code",
   "execution_count": 31,
   "id": "72569a8c",
   "metadata": {},
   "outputs": [
    {
     "data": {
      "text/plain": [
       "[0, 1, 2, 3, 4, 5, 6, 7, 8, 9]"
      ]
     },
     "execution_count": 31,
     "metadata": {},
     "output_type": "execute_result"
    }
   ],
   "source": [
    "list(range(10))"
   ]
  },
  {
   "cell_type": "code",
   "execution_count": 32,
   "id": "304b0876",
   "metadata": {},
   "outputs": [
    {
     "data": {
      "text/plain": [
       "2191766044160"
      ]
     },
     "execution_count": 32,
     "metadata": {},
     "output_type": "execute_result"
    }
   ],
   "source": [
    "id(thread)"
   ]
  },
  {
   "cell_type": "code",
   "execution_count": 33,
   "id": "14131589",
   "metadata": {},
   "outputs": [],
   "source": [
    "# it is running in same core"
   ]
  },
  {
   "cell_type": "code",
   "execution_count": 34,
   "id": "e9562e92",
   "metadata": {},
   "outputs": [],
   "source": [
    "import threading\n",
    "import urllib.request"
   ]
  },
  {
   "cell_type": "code",
   "execution_count": 35,
   "id": "507ce00d",
   "metadata": {},
   "outputs": [],
   "source": [
    "def file_download(url,filename):\n",
    "     urllib.request.urlretrieve(url,filename)"
   ]
  },
  {
   "cell_type": "code",
   "execution_count": 36,
   "id": "dd63aeef",
   "metadata": {},
   "outputs": [],
   "source": [
    "file_download('https://github.com/kmrshivamit/sql/blob/main/group_concat','abc.txt')"
   ]
  },
  {
   "cell_type": "code",
   "execution_count": 37,
   "id": "f290c2d1",
   "metadata": {},
   "outputs": [],
   "source": [
    "def test1(id):\n",
    "    for i in range(10):\n",
    "        print(\"test1 %d printing %d\"%(id,i))\n",
    "        time.sleep(1)"
   ]
  },
  {
   "cell_type": "code",
   "execution_count": 43,
   "id": "1193c20e",
   "metadata": {},
   "outputs": [],
   "source": [
    "thread1=[threading.Thread(target=test1,args=(i,)) for i in range(4)]"
   ]
  },
  {
   "cell_type": "code",
   "execution_count": 44,
   "id": "2af9bb1c",
   "metadata": {},
   "outputs": [
    {
     "name": "stdout",
     "output_type": "stream",
     "text": [
      "test1 0 printing 0\n",
      "test1 1 printing 0\n",
      "test1 2 printing 0\n",
      "test1 3 printing 0\n",
      "test1 0 printing 1test1 1 printing 1\n",
      "\n",
      "test1 2 printing 1\n",
      "test1 3 printing 1\n",
      "test1 1 printing 2\n",
      "test1 3 printing 2\n",
      "test1 0 printing 2\n",
      "test1 2 printing 2\n",
      "test1 1 printing 3test1 3 printing 3\n",
      "\n",
      "test1 0 printing 3\n",
      "test1 2 printing 3\n",
      "test1 0 printing 4test1 3 printing 4\n",
      "test1 2 printing 4\n",
      "test1 1 printing 4\n",
      "\n",
      "test1 2 printing 5test1 1 printing 5\n",
      "\n",
      "test1 3 printing 5\n",
      "test1 0 printing 5\n",
      "test1 1 printing 6test1 0 printing 6\n",
      "\n",
      "test1 3 printing 6\n",
      "test1 2 printing 6\n",
      "test1 1 printing 7test1 3 printing 7\n",
      "\n",
      "test1 2 printing 7\n",
      "test1 0 printing 7\n",
      "test1 2 printing 8test1 0 printing 8\n",
      "\n",
      "test1 3 printing 8\n",
      "test1 1 printing 8\n",
      "test1 0 printing 9\n",
      "test1 2 printing 9\n",
      "test1 3 printing 9\n",
      "test1 1 printing 9\n"
     ]
    }
   ],
   "source": [
    "for t in thread1:\n",
    "    t.start()"
   ]
  },
  {
   "cell_type": "code",
   "execution_count": null,
   "id": "f78d2900",
   "metadata": {},
   "outputs": [],
   "source": []
  }
 ],
 "metadata": {
  "kernelspec": {
   "display_name": "Python 3 (ipykernel)",
   "language": "python",
   "name": "python3"
  },
  "language_info": {
   "codemirror_mode": {
    "name": "ipython",
    "version": 3
   },
   "file_extension": ".py",
   "mimetype": "text/x-python",
   "name": "python",
   "nbconvert_exporter": "python",
   "pygments_lexer": "ipython3",
   "version": "3.9.13"
  }
 },
 "nbformat": 4,
 "nbformat_minor": 5
}
