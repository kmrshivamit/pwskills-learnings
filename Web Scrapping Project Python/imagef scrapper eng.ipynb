{
 "cells": [
  {
   "cell_type": "code",
   "execution_count": 101,
   "id": "ea251fbf",
   "metadata": {},
   "outputs": [],
   "source": [
    "import requests\n",
    "from bs4 import BeautifulSoup\n",
    "from urllib.request import urlopen\n",
    "import logging \n",
    "import os"
   ]
  },
  {
   "cell_type": "code",
   "execution_count": 102,
   "id": "12448f3d",
   "metadata": {},
   "outputs": [],
   "source": [
    "save_dir=\"images/\"\n",
    "if not os.path.exists(save_dir):\n",
    "    os.makedirs(save_dir)"
   ]
  },
  {
   "cell_type": "code",
   "execution_count": 103,
   "id": "ad77c059",
   "metadata": {},
   "outputs": [],
   "source": [
    " # fake user agent to avoid getting blocked by Google\n",
    "headers = {\"User-Agent\": \"Mozilla/5.0 (Windows NT 10.0; Win64; x64) AppleWebKit/537.36 (KHTML, like Gecko) Chrome/58.0.3029.110 Safari/537.36\"}\n"
   ]
  },
  {
   "cell_type": "code",
   "execution_count": 104,
   "id": "c70bee49",
   "metadata": {},
   "outputs": [],
   "source": [
    "query=\"elon musk\"\n",
    "base_url=f\"https://www.google.com/search?q={query}&sxsrf=AJOqlzVe0WPRjANnhLF4Lcw9hzJpPg9sXQ:1677252234808&source=lnms&tbm=isch&sa=X&ved=2ahUKEwi62Z29u679AhVN1zgGHRbCCDIQ0pQJegQIBhAC&biw=1280&bih=616&dpr=1.5\"\n",
    "response=requests.get(base_url)"
   ]
  },
  {
   "cell_type": "code",
   "execution_count": 105,
   "id": "c4df2356",
   "metadata": {},
   "outputs": [
    {
     "data": {
      "text/plain": [
       "<Response [200]>"
      ]
     },
     "execution_count": 105,
     "metadata": {},
     "output_type": "execute_result"
    }
   ],
   "source": [
    "response"
   ]
  },
  {
   "cell_type": "code",
   "execution_count": 106,
   "id": "e832941d",
   "metadata": {},
   "outputs": [
    {
     "data": {
      "text/plain": [
       "'https://www.google.com/search?q=elon musk&sxsrf=AJOqlzVe0WPRjANnhLF4Lcw9hzJpPg9sXQ:1677252234808&source=lnms&tbm=isch&sa=X&ved=2ahUKEwi62Z29u679AhVN1zgGHRbCCDIQ0pQJegQIBhAC&biw=1280&bih=616&dpr=1.5'"
      ]
     },
     "execution_count": 106,
     "metadata": {},
     "output_type": "execute_result"
    }
   ],
   "source": [
    "base_url"
   ]
  },
  {
   "cell_type": "code",
   "execution_count": 107,
   "id": "1be35c77",
   "metadata": {},
   "outputs": [],
   "source": [
    "soup=BeautifulSoup(response.content,\"html.parser\")"
   ]
  },
  {
   "cell_type": "code",
   "execution_count": 108,
   "id": "377c19fc",
   "metadata": {},
   "outputs": [
    {
     "data": {
      "text/plain": [
       "<!DOCTYPE html PUBLIC \"-//WAPFORUM//DTD XHTML Mobile 1.0//EN\" \"http://www.wapforum.org/DTD/xhtml-mobile10.dtd\">\n",
       "<html lang=\"en-IN\" xmlns=\"http://www.w3.org/1999/xhtml\"><head><meta content=\"application/xhtml+xml; charset=utf-8\" http-equiv=\"Content-Type\"/><meta content=\"no-cache\" name=\"Cache-Control\"/><title>elon musk - Google Search</title><style>a{text-decoration:none;color:inherit}a:hover{text-decoration:underline}a img{border:0}body{font-family:arial,sans-serif;padding:8px;margin:0 auto;max-width:700px;min-width:240px;}.FbhRzb{border-left:thin solid #dadce0;border-right:thin solid #dadce0;border-top:thin solid #dadce0;height:40px;overflow:hidden}.n692Zd{margin-bottom:10px}.cvifge{height:40px;border-spacing:0}.QvGUP{height:40px;padding:0 8px 0 8px;vertical-align:top}.O4cRJf{height:40px;width:100%;padding:0;padding-right:16px}.O1ePr{height:40px;padding:0;vertical-align:top}.kgJEQe{height:36px;width:98px;vertical-align:top;margin-top:4px}.lXLRf{vertical-align:top}.MhzMZd{border:0;vertical-align:middle;font-size:14px;height:40px;padding:0;width:100%;padding-left:16px}.xB0fq{height:40px;border:none;font-size:14px;background-color:#1a73e8;color:#fff;padding:0 16px;margin:0;vertical-align:top;cursor:pointer}.xB0fq:focus{border:1px solid #1a73e8}.M7pB2{border:thin solid #dadce0;margin:0 0 3px 0;font-size:13px;font-weight:500;height:40px}.euZec{width:100%;height:40px;text-align:center;border-spacing:0}table.euZec td{padding:0;width:25%}.QIqI7{display:inline-block;padding-top:4px;font-weight:bold;color:#4285f4}.EY24We{border-bottom:2px solid #4285f4}.CsQyDc{display:inline-block;color:#70757a}.TuS8Ad{font-size:14px}.HddGcc{padding:8px;color:#70757a}.dzp8ae{font-weight:bold;color:#3c4043}.rEM8G{color:#70757a}.bookcf{table-layout:fixed;width:100%;border-spacing:0}.InWNIe{text-align:center}.uZgmoc{border:thin solid #dadce0;color:#70757a;font-size:14px;text-align:center;table-layout:fixed;width:100%}.frGj1b{display:block;padding:12px 0 12px 0;width:100%}.BnJWBc{text-align:center;padding:6px 0 13px 0;height:35px}.e3goi{vertical-align:top;padding:0;height:180px}.GpQGbf{margin:auto;border-collapse:collapse;border-spacing:0;width:100%}</style></head><body><style>.X6ZCif{color:#202124;font-size:11px;line-height:16px;display:inline-block;padding-top:2px;overflow:hidden;padding-bottom:4px;width:100%}.TwVfHd{border-radius:16px;border:thin solid #dadce0;display:inline-block;padding:8px 8px;margin-right:8px;margin-bottom:4px}.yekiAe{background-color:#dadce0}.mnTahd{width:100%}.ezO2md{border:thin solid #dadce0;padding:12px 16px 12px 16px;margin-bottom:10px;font-family:arial,sans-serif}.lIMUZd{font-family:arial,sans-serif}.IkMU6e{border-spacing:0}.SjCsie{width:100%}.EnarA{text-align:center}.NZWO1b{width:162px;height:140px;line-height:140px;overflow:'hidden';text-align:center}.yWs4tf{text-align:center;margin:auto;vertical-align:middle;max-width:162px;max-height:140px}.jB2rPd{padding-top:2px;padding-bottom:8px;}.fYyStc{word-break:break-word}.ynsChf{display:block;white-space:nowrap;overflow:hidden;text-overflow:ellipsis}.Fj3V3b{color:#1967d2;font-size:14px;line-height:20px}.FrIlee{color:#202124;font-size:11px;line-height:16px}.F9iS2e{color:#70757a;font-size:11px;line-height:16px}.WMQ2Le{color:#70757a;font-size:12px;line-height:16px}.x3G5ab{color:#202124;font-size:12px;line-height:16px}.fuLhoc{color:#1967d2;font-size:16px;line-height:20px}.epoveb{font-size:24px;line-height:28px;font-weight:400;color:#202124}.dXDvrc{color:#0d652d;font-size:14px;line-height:20px;word-wrap:break-word}.dloBPe{font-weight:bold}.YVIcad{color:#70757a}.JkVVdd{color:#ea4335}.oXZRFd{color:#ea4335}.MQHtg{color:#fbbc04}.pyMRrb{color:#1e8e3e}.EtTZid{color:#1e8e3e}.M3vVJe{color:#1967d2}.qXLe6d{display:block}.NHQNef{font-style:italic}.Cb8Z7c{white-space:pre}a.ZWRArf{text-decoration:none}a .CVA68e:hover{text-decoration:underline}</style><div class=\"n692Zd\"><div class=\"BnJWBc\"><a class=\"lXLRf\" href=\"/?sa=X&amp;biw=1280&amp;bih=616&amp;output=images&amp;ie=UTF-8&amp;tbm=isch&amp;ved=0ahUKEwjW6rj0wq79AhUn1DgGHXufC_UQPAgC\"><img alt=\"Google\" class=\"kgJEQe\" src=\"/images/branding/searchlogo/1x/googlelogo_desk_heirloom_color_150x55dp.gif\"/></a></div><div class=\"FbhRzb\"><form action=\"/search\"><input name=\"biw\" type=\"hidden\" value=\"1280\"/><input name=\"bih\" type=\"hidden\" value=\"616\"/><input name=\"ie\" type=\"hidden\" value=\"ISO-8859-1\"/><input name=\"tbm\" type=\"hidden\" value=\"isch\"/><input name=\"oq\" type=\"hidden\"/><input name=\"aqs\" type=\"hidden\"/><table class=\"cvifge\"><tr><td class=\"O4cRJf\"><input class=\"MhzMZd\" name=\"q\" type=\"text\" value=\"elon musk\"/></td><td class=\"O1ePr\"><input class=\"xB0fq\" type=\"submit\" value=\"Search\"/></td></tr></table></form></div><div class=\"M7pB2\"><table class=\"euZec\"><tbody><tr><td><a class=\"CsQyDc\" href=\"/search?q=elon+musk&amp;biw=1280&amp;bih=616&amp;ie=UTF-8&amp;source=lnms&amp;sa=X&amp;ved=0ahUKEwjW6rj0wq79AhUn1DgGHXufC_UQ_AUIBCgA\">ALL</a></td><td><a class=\"CsQyDc\" href=\"/search?q=elon+musk&amp;biw=1280&amp;bih=616&amp;ie=UTF-8&amp;tbm=nws&amp;source=lnms&amp;sa=X&amp;ved=0ahUKEwjW6rj0wq79AhUn1DgGHXufC_UQ_AUIBSgB\">NEWS</a></td><td class=\"EY24We\"><span class=\"QIqI7\">IMAGES</span></td><td><a class=\"CsQyDc\" href=\"/search?q=elon+musk&amp;biw=1280&amp;bih=616&amp;ie=UTF-8&amp;tbm=vid&amp;source=lnms&amp;sa=X&amp;ved=0ahUKEwjW6rj0wq79AhUn1DgGHXufC_UQ_AUIBygD\">VIDEOS</a></td></tr></tbody></table></div></div><div class=\"X6ZCif\"><a class=\"TwVfHd\" href=\"/search?biw=1280&amp;bih=616&amp;ie=UTF-8&amp;tbm=isch&amp;q=elon+musk&amp;chips=q:elon+musk,g_1:tesla&amp;sa=X&amp;ved=0ahUKEwjW6rj0wq79AhUn1DgGHXufC_UQ4lYICygA\">tesla</a><a class=\"TwVfHd\" href=\"/search?biw=1280&amp;bih=616&amp;ie=UTF-8&amp;tbm=isch&amp;q=elon+musk&amp;chips=q:elon+musk,g_1:spacex&amp;sa=X&amp;ved=0ahUKEwjW6rj0wq79AhUn1DgGHXufC_UQ4lYIDCgB\">spacex</a><a class=\"TwVfHd\" href=\"/search?biw=1280&amp;bih=616&amp;ie=UTF-8&amp;tbm=isch&amp;q=elon+musk&amp;chips=q:elon+musk,g_1:rocket&amp;sa=X&amp;ved=0ahUKEwjW6rj0wq79AhUn1DgGHXufC_UQ4lYIDSgC\">rocket</a><a class=\"TwVfHd\" href=\"/search?biw=1280&amp;bih=616&amp;ie=UTF-8&amp;tbm=isch&amp;q=elon+musk&amp;chips=q:elon+musk,g_1:wallpaper&amp;sa=X&amp;ved=0ahUKEwjW6rj0wq79AhUn1DgGHXufC_UQ4lYIDigD\">wallpaper</a><a class=\"TwVfHd\" href=\"/search?biw=1280&amp;bih=616&amp;ie=UTF-8&amp;tbm=isch&amp;q=elon+musk&amp;chips=q:elon+musk,g_1:grimes&amp;sa=X&amp;ved=0ahUKEwjW6rj0wq79AhUn1DgGHXufC_UQ4lYIDygE\">grimes</a><a class=\"TwVfHd\" href=\"/search?biw=1280&amp;bih=616&amp;ie=UTF-8&amp;tbm=isch&amp;q=elon+musk&amp;chips=q:elon+musk,g_1:twitter&amp;sa=X&amp;ved=0ahUKEwjW6rj0wq79AhUn1DgGHXufC_UQ4lYIECgF\">twitter</a><a class=\"TwVfHd\" href=\"/search?biw=1280&amp;bih=616&amp;ie=UTF-8&amp;tbm=isch&amp;q=elon+musk&amp;chips=q:elon+musk,g_1:paypal&amp;sa=X&amp;ved=0ahUKEwjW6rj0wq79AhUn1DgGHXufC_UQ4lYIESgG\">paypal</a><a class=\"TwVfHd\" href=\"/search?biw=1280&amp;bih=616&amp;ie=UTF-8&amp;tbm=isch&amp;q=elon+musk&amp;chips=q:elon+musk,g_1:car&amp;sa=X&amp;ved=0ahUKEwjW6rj0wq79AhUn1DgGHXufC_UQ4lYIEigH\">car</a><a class=\"TwVfHd\" href=\"/search?biw=1280&amp;bih=616&amp;ie=UTF-8&amp;tbm=isch&amp;q=elon+musk&amp;chips=q:elon+musk,g_1:early&amp;sa=X&amp;ved=0ahUKEwjW6rj0wq79AhUn1DgGHXufC_UQ4lYIEygI\">early</a><a class=\"TwVfHd\" href=\"/search?biw=1280&amp;bih=616&amp;ie=UTF-8&amp;tbm=isch&amp;q=elon+musk&amp;chips=q:elon+musk,g_1:roadster&amp;sa=X&amp;ved=0ahUKEwjW6rj0wq79AhUn1DgGHXufC_UQ4lYIFCgJ\">roadster</a></div><div><table class=\"GpQGbf\"><tr><td align=\"center\" class=\"e3goi\"><div class=\"mnTahd\"> <div> <div class=\"lIMUZd\"><div><table class=\"IkMU6e\"><tr><td><a href=\"/url?q=https://en.wikipedia.org/wiki/Elon_Musk&amp;sa=U&amp;ved=2ahUKEwjW6rj0wq79AhUn1DgGHXufC_UQqoUBegQIAxAB&amp;usg=AOvVaw2eCUjuXL5FIXwhKpgtudQK\"><div class=\"NZWO1b\"><img alt=\"\" class=\"yWs4tf\" src=\"https://encrypted-tbn0.gstatic.com/images?q=tbn:ANd9GcRrZNzYQxi1a-qn4UAQIHAseCjJ0_ewPp2-Su3ImZe_cD-HPueyeQFHT6PGxA&amp;s\"/></div></a></td></tr><tr><td><a href=\"/url?q=https://en.wikipedia.org/wiki/Elon_Musk&amp;sa=U&amp;ved=2ahUKEwjW6rj0wq79AhUn1DgGHXufC_UQr4kDegQIAxAC&amp;usg=AOvVaw2nx0JcEySxDIffHGkGBkx2\"><div class=\"jB2rPd\"> <span class=\"qXLe6d x3G5ab\"> <span class=\"fYyStc\">Elon Musk - Wikipedia</span> </span> <span class=\"qXLe6d F9iS2e\"> <span class=\"fYyStc\">en.wikipedia.org</span> </span> </div></a></td></tr></table></div></div> </div> </div></td><td align=\"center\" class=\"e3goi\"><div class=\"mnTahd\"> <div> <div class=\"lIMUZd\"><div><table class=\"IkMU6e\"><tr><td><a href=\"/url?q=https://www.britannica.com/biography/Elon-Musk&amp;sa=U&amp;ved=2ahUKEwjW6rj0wq79AhUn1DgGHXufC_UQqoUBegQIExAB&amp;usg=AOvVaw13obGYW-McVdVaX31b2OO8\"><div class=\"NZWO1b\"><img alt=\"\" class=\"yWs4tf\" src=\"https://encrypted-tbn0.gstatic.com/images?q=tbn:ANd9GcQY_R5NSNoZkSlMo3hf86COGJ4fCv0s6Nx4k8uCGkWc6YGOn_m4-rIOQ3GhOhg&amp;s\"/></div></a></td></tr><tr><td><a href=\"/url?q=https://www.britannica.com/biography/Elon-Musk&amp;sa=U&amp;ved=2ahUKEwjW6rj0wq79AhUn1DgGHXufC_UQr4kDegQIExAC&amp;usg=AOvVaw07F42ARAaeiyR9wv4QQ2sH\"><div class=\"jB2rPd\"> <span class=\"qXLe6d x3G5ab\"> <span class=\"fYyStc\">Elon Musk | Biography,...</span> </span> <span class=\"qXLe6d F9iS2e\"> <span class=\"fYyStc\">www.britannica.com</span> </span> </div></a></td></tr></table></div></div> </div> </div></td><td align=\"center\" class=\"e3goi\"><div class=\"mnTahd\"> <div> <div class=\"lIMUZd\"><div><table class=\"IkMU6e\"><tr><td><a href=\"/url?q=https://www.britannica.com/biography/Elon-Musk&amp;sa=U&amp;ved=2ahUKEwjW6rj0wq79AhUn1DgGHXufC_UQqoUBegQIEhAB&amp;usg=AOvVaw2taZgjIJZQ3jy7dFrJxMpq\"><div class=\"NZWO1b\"><img alt=\"\" class=\"yWs4tf\" src=\"https://encrypted-tbn0.gstatic.com/images?q=tbn:ANd9GcS6mPr1g683xgMlTnJfswzPyIjixDUJCLKR_GUOYd43dGj0LB8Uum64r_cOjl4&amp;s\"/></div></a></td></tr><tr><td><a href=\"/url?q=https://www.britannica.com/biography/Elon-Musk&amp;sa=U&amp;ved=2ahUKEwjW6rj0wq79AhUn1DgGHXufC_UQr4kDegQIEhAC&amp;usg=AOvVaw3pPxxXc3SUhaJPIso0J_G6\"><div class=\"jB2rPd\"> <span class=\"qXLe6d x3G5ab\"> <span class=\"fYyStc\">Elon Musk | Biography,...</span> </span> <span class=\"qXLe6d F9iS2e\"> <span class=\"fYyStc\">www.britannica.com</span> </span> </div></a></td></tr></table></div></div> </div> </div></td><td align=\"center\" class=\"e3goi\"><div class=\"mnTahd\"> <div> <div class=\"lIMUZd\"><div><table class=\"IkMU6e\"><tr><td><a href=\"/url?q=https://www.biography.com/business-leaders/elon-musk&amp;sa=U&amp;ved=2ahUKEwjW6rj0wq79AhUn1DgGHXufC_UQqoUBegQIERAB&amp;usg=AOvVaw0CPZZsJhXiSNfPDslsGep7\"><div class=\"NZWO1b\"><img alt=\"\" class=\"yWs4tf\" src=\"https://encrypted-tbn0.gstatic.com/images?q=tbn:ANd9GcTnUpouHg-rUxr-Z9c8PesJeyZU7RNznHy-z_qQb1DG8IVkXISzuTT8lYvG_e4&amp;s\"/></div></a></td></tr><tr><td><a href=\"/url?q=https://www.biography.com/business-leaders/elon-musk&amp;sa=U&amp;ved=2ahUKEwjW6rj0wq79AhUn1DgGHXufC_UQr4kDegQIERAC&amp;usg=AOvVaw0yOQEUZKL3fG-JXCdpSdn0\"><div class=\"jB2rPd\"> <span class=\"qXLe6d x3G5ab\"> <span class=\"fYyStc\">Elon Musk - Tesla, Age &amp;...</span> </span> <span class=\"qXLe6d F9iS2e\"> <span class=\"fYyStc\">www.biography.com</span> </span> </div></a></td></tr></table></div></div> </div> </div></td></tr><tr><td align=\"center\" class=\"e3goi\"><div class=\"mnTahd\"> <div> <div class=\"lIMUZd\"><div><table class=\"IkMU6e\"><tr><td><a href=\"/url?q=https://www.bbc.com/news/business-61234231&amp;sa=U&amp;ved=2ahUKEwjW6rj0wq79AhUn1DgGHXufC_UQqoUBegQICxAB&amp;usg=AOvVaw1LwcvvC65gw0FPfdIA7WmI\"><div class=\"NZWO1b\"><img alt=\"\" class=\"yWs4tf\" src=\"https://encrypted-tbn0.gstatic.com/images?q=tbn:ANd9GcS6Ati5W_eLUHgusJezxxmtEJTT0Jdx0t4a5Ot2Kuh-mEnTRWxzXhTwIbR-dw&amp;s\"/></div></a></td></tr><tr><td><a href=\"/url?q=https://www.bbc.com/news/business-61234231&amp;sa=U&amp;ved=2ahUKEwjW6rj0wq79AhUn1DgGHXufC_UQr4kDegQICxAC&amp;usg=AOvVaw0ZvXPUVj7e-9TgJjFqwCvR\"><div class=\"jB2rPd\"> <span class=\"qXLe6d x3G5ab\"> <span class=\"fYyStc\">Who is Elon Musk? - BBC...</span> </span> <span class=\"qXLe6d F9iS2e\"> <span class=\"fYyStc\">www.bbc.com</span> </span> </div></a></td></tr></table></div></div> </div> </div></td><td align=\"center\" class=\"e3goi\"><div class=\"mnTahd\"> <div> <div class=\"lIMUZd\"><div><table class=\"IkMU6e\"><tr><td><a href=\"/url?q=https://www.rollingstone.com/politics/politics-news/elon-musk-twitter-no-transparency-reports-government-data-1234684941/&amp;sa=U&amp;ved=2ahUKEwjW6rj0wq79AhUn1DgGHXufC_UQqoUBegQIChAB&amp;usg=AOvVaw3BlWtgO_YnO-Gom6AOy3mp\"><div class=\"NZWO1b\"><img alt=\"\" class=\"yWs4tf\" src=\"https://encrypted-tbn0.gstatic.com/images?q=tbn:ANd9GcQIOgz44ZqGJl0LCSX2cHRBbFYxbkD5FZpdqTh-IRnerT8jFCjVwPIRLyHIdw&amp;s\"/></div></a></td></tr><tr><td><a href=\"/url?q=https://www.rollingstone.com/politics/politics-news/elon-musk-twitter-no-transparency-reports-government-data-1234684941/&amp;sa=U&amp;ved=2ahUKEwjW6rj0wq79AhUn1DgGHXufC_UQr4kDegQIChAC&amp;usg=AOvVaw0a1xNqb7uaii96QkTShHXr\"><div class=\"jB2rPd\"> <span class=\"qXLe6d x3G5ab\"> <span class=\"fYyStc\">Elon Musk's Twitter Goes...</span> </span> <span class=\"qXLe6d F9iS2e\"> <span class=\"fYyStc\">www.rollingstone.com</span> </span> </div></a></td></tr></table></div></div> </div> </div></td><td align=\"center\" class=\"e3goi\"><div class=\"mnTahd\"> <div> <div class=\"lIMUZd\"><div><table class=\"IkMU6e\"><tr><td><a href=\"/url?q=https://fortune.com/2023/02/06/elon-musk-twitter-tesla-spacex-health-pain-leadership/&amp;sa=U&amp;ved=2ahUKEwjW6rj0wq79AhUn1DgGHXufC_UQqoUBegQIEBAB&amp;usg=AOvVaw0Bt3I95kfkqE3OIxx2I8b0\"><div class=\"NZWO1b\"><img alt=\"\" class=\"yWs4tf\" src=\"https://encrypted-tbn0.gstatic.com/images?q=tbn:ANd9GcQkPMpJzfGSmh6Kjo3kK8Wfpvv7y0w3h-OVp66vNlbqpWV9id9vTOaCH4sc-Ss&amp;s\"/></div></a></td></tr><tr><td><a href=\"/url?q=https://fortune.com/2023/02/06/elon-musk-twitter-tesla-spacex-health-pain-leadership/&amp;sa=U&amp;ved=2ahUKEwjW6rj0wq79AhUn1DgGHXufC_UQr4kDegQIEBAC&amp;usg=AOvVaw2GOiIEX7Tq-SROyf2R5tUt\"><div class=\"jB2rPd\"> <span class=\"qXLe6d x3G5ab\"> <span class=\"fYyStc\">Musk admits working nonstop...</span> </span> <span class=\"qXLe6d F9iS2e\"> <span class=\"fYyStc\">fortune.com</span> </span> </div></a></td></tr></table></div></div> </div> </div></td><td align=\"center\" class=\"e3goi\"><div class=\"mnTahd\"> <div> <div class=\"lIMUZd\"><div><table class=\"IkMU6e\"><tr><td><a href=\"/url?q=https://www.npr.org/2022/10/31/1132906782/elon-musk-twitter-pelosi-conspiracy&amp;sa=U&amp;ved=2ahUKEwjW6rj0wq79AhUn1DgGHXufC_UQqoUBegQIDhAB&amp;usg=AOvVaw28dywLbzidT6DOK2pa0g4P\"><div class=\"NZWO1b\"><img alt=\"\" class=\"yWs4tf\" src=\"https://encrypted-tbn0.gstatic.com/images?q=tbn:ANd9GcSZOocGCjGRqEen4La89mTRQG1ccc5VwnczRF6xe27fGDrWk43zlwLnnfewJ4o&amp;s\"/></div></a></td></tr><tr><td><a href=\"/url?q=https://www.npr.org/2022/10/31/1132906782/elon-musk-twitter-pelosi-conspiracy&amp;sa=U&amp;ved=2ahUKEwjW6rj0wq79AhUn1DgGHXufC_UQr4kDegQIDhAC&amp;usg=AOvVaw0EVseBnbAOeIs6qWPXp3-f\"><div class=\"jB2rPd\"> <span class=\"qXLe6d x3G5ab\"> <span class=\"fYyStc\">Twitter owner Elon Musk...</span> </span> <span class=\"qXLe6d F9iS2e\"> <span class=\"fYyStc\">www.npr.org</span> </span> </div></a></td></tr></table></div></div> </div> </div></td></tr><tr><td align=\"center\" class=\"e3goi\"><div class=\"mnTahd\"> <div> <div class=\"lIMUZd\"><div><table class=\"IkMU6e\"><tr><td><a href=\"/url?q=https://www.rollingstone.com/culture/culture-news/elon-musk-fires-twitter-engineer-1234676828/&amp;sa=U&amp;ved=2ahUKEwjW6rj0wq79AhUn1DgGHXufC_UQqoUBegQIDBAB&amp;usg=AOvVaw0fl0gHb1iiD2oZO6_QwLM9\"><div class=\"NZWO1b\"><img alt=\"\" class=\"yWs4tf\" src=\"https://encrypted-tbn0.gstatic.com/images?q=tbn:ANd9GcSmSrYC5H1bUXC7zmC4gbcgMpNG-eQGAgRCfOjAfy-YjrFf8aA6qzU0z23jB9o&amp;s\"/></div></a></td></tr><tr><td><a href=\"/url?q=https://www.rollingstone.com/culture/culture-news/elon-musk-fires-twitter-engineer-1234676828/&amp;sa=U&amp;ved=2ahUKEwjW6rj0wq79AhUn1DgGHXufC_UQr4kDegQIDBAC&amp;usg=AOvVaw3OqnvGkzLkHVsNeSa8zO16\"><div class=\"jB2rPd\"> <span class=\"qXLe6d x3G5ab\"> <span class=\"fYyStc\">Elon Musk Reportedly Fires...</span> </span> <span class=\"qXLe6d F9iS2e\"> <span class=\"fYyStc\">www.rollingstone.com</span> </span> </div></a></td></tr></table></div></div> </div> </div></td><td align=\"center\" class=\"e3goi\"><div class=\"mnTahd\"> <div> <div class=\"lIMUZd\"><div><table class=\"IkMU6e\"><tr><td><a href=\"/url?q=https://www.livemint.com/companies/news/twitter-tesla-neuralink-spacex-the-week-that-ran-on-elon-musk-time-11670248999485.html&amp;sa=U&amp;ved=2ahUKEwjW6rj0wq79AhUn1DgGHXufC_UQqoUBegQIDRAB&amp;usg=AOvVaw37R31BLUU2fVq_pCY1aBCw\"><div class=\"NZWO1b\"><img alt=\"\" class=\"yWs4tf\" src=\"https://encrypted-tbn0.gstatic.com/images?q=tbn:ANd9GcTwF65pL5GBpD7EJNuLKzr0QS8_z3yF3cgHPYLnQwvj_olSFRF1orqv7dTkCjU&amp;s\"/></div></a></td></tr><tr><td><a href=\"/url?q=https://www.livemint.com/companies/news/twitter-tesla-neuralink-spacex-the-week-that-ran-on-elon-musk-time-11670248999485.html&amp;sa=U&amp;ved=2ahUKEwjW6rj0wq79AhUn1DgGHXufC_UQr4kDegQIDRAC&amp;usg=AOvVaw2KuLJbtuLZq3zQi1KU8Z_o\"><div class=\"jB2rPd\"> <span class=\"qXLe6d x3G5ab\"> <span class=\"fYyStc\">Twitter, Tesla, Neuralink,...</span> </span> <span class=\"qXLe6d F9iS2e\"> <span class=\"fYyStc\">www.livemint.com</span> </span> </div></a></td></tr></table></div></div> </div> </div></td><td align=\"center\" class=\"e3goi\"><div class=\"mnTahd\"> <div> <div class=\"lIMUZd\"><div><table class=\"IkMU6e\"><tr><td><a href=\"/url?q=https://www.cnbc.com/2023/02/22/elon-musk-meets-with-california-gov-newsom-at-teslas-engineering-hq.html&amp;sa=U&amp;ved=2ahUKEwjW6rj0wq79AhUn1DgGHXufC_UQqoUBegQICRAB&amp;usg=AOvVaw07YUciAmWmCvX8ERyA5GrP\"><div class=\"NZWO1b\"><img alt=\"\" class=\"yWs4tf\" src=\"https://encrypted-tbn0.gstatic.com/images?q=tbn:ANd9GcQaGrpFfQTXfAdZpo4bjMM-W9qD0cPrTxFEfbIbbwY_elilBAlyIAf7EtU14yg&amp;s\"/></div></a></td></tr><tr><td><a href=\"/url?q=https://www.cnbc.com/2023/02/22/elon-musk-meets-with-california-gov-newsom-at-teslas-engineering-hq.html&amp;sa=U&amp;ved=2ahUKEwjW6rj0wq79AhUn1DgGHXufC_UQr4kDegQICRAC&amp;usg=AOvVaw1rAKSA_68Vl97v4pC09Geb\"><div class=\"jB2rPd\"> <span class=\"qXLe6d x3G5ab\"> <span class=\"fYyStc\">Elon Musk meets with...</span> </span> <span class=\"qXLe6d F9iS2e\"> <span class=\"fYyStc\">www.cnbc.com</span> </span> </div></a></td></tr></table></div></div> </div> </div></td><td align=\"center\" class=\"e3goi\"><div class=\"mnTahd\"> <div> <div class=\"lIMUZd\"><div><table class=\"IkMU6e\"><tr><td><a href=\"/url?q=https://www.teslarati.com/elon-musk-lawyers-closing-arguments-ceo-pay-case/&amp;sa=U&amp;ved=2ahUKEwjW6rj0wq79AhUn1DgGHXufC_UQqoUBegQIDxAB&amp;usg=AOvVaw1LjpIgbnbLsM8p87BrxZEg\"><div class=\"NZWO1b\"><img alt=\"\" class=\"yWs4tf\" src=\"https://encrypted-tbn0.gstatic.com/images?q=tbn:ANd9GcQwhoWuoBW-YEag4Rpb66jMvP5gZOJXBqeW3qKHS7anm97UEd11Cj47nafBGg&amp;s\"/></div></a></td></tr><tr><td><a href=\"/url?q=https://www.teslarati.com/elon-musk-lawyers-closing-arguments-ceo-pay-case/&amp;sa=U&amp;ved=2ahUKEwjW6rj0wq79AhUn1DgGHXufC_UQr4kDegQIDxAC&amp;usg=AOvVaw1D_bz-bwsXp3l4c7DWnYst\"><div class=\"jB2rPd\"> <span class=\"qXLe6d x3G5ab\"> <span class=\"fYyStc\">Elon Musk's lawyers to make...</span> </span> <span class=\"qXLe6d F9iS2e\"> <span class=\"fYyStc\">www.teslarati.com</span> </span> </div></a></td></tr></table></div></div> </div> </div></td></tr><tr><td align=\"center\" class=\"e3goi\"><div class=\"mnTahd\"> <div> <div class=\"lIMUZd\"><div><table class=\"IkMU6e\"><tr><td><a href=\"/url?q=https://www.foxbusiness.com/business-leaders/elon-musks-first-100-days-twitter-defined-rapid-change-challenges&amp;sa=U&amp;ved=2ahUKEwjW6rj0wq79AhUn1DgGHXufC_UQqoUBegQIBRAB&amp;usg=AOvVaw3I7UCDdHacAqXlA2a_yfzk\"><div class=\"NZWO1b\"><img alt=\"\" class=\"yWs4tf\" src=\"https://encrypted-tbn0.gstatic.com/images?q=tbn:ANd9GcQdOp3ZpYbou1yMlj2sgHy7eCNp2ua5Hj2PFAONLM8ppB9TWUPsy644Z0PaXP0&amp;s\"/></div></a></td></tr><tr><td><a href=\"/url?q=https://www.foxbusiness.com/business-leaders/elon-musks-first-100-days-twitter-defined-rapid-change-challenges&amp;sa=U&amp;ved=2ahUKEwjW6rj0wq79AhUn1DgGHXufC_UQr4kDegQIBRAC&amp;usg=AOvVaw00gpiJTlWqstzkqvzhxi8P\"><div class=\"jB2rPd\"> <span class=\"qXLe6d x3G5ab\"> <span class=\"fYyStc\">Elon Musk's first 100 days...</span> </span> <span class=\"qXLe6d F9iS2e\"> <span class=\"fYyStc\">www.foxbusiness.com</span> </span> </div></a></td></tr></table></div></div> </div> </div></td><td align=\"center\" class=\"e3goi\"><div class=\"mnTahd\"> <div> <div class=\"lIMUZd\"><div><table class=\"IkMU6e\"><tr><td><a href=\"/url?q=https://www.businessinsider.com/the-rise-of-elon-musk-2016-7&amp;sa=U&amp;ved=2ahUKEwjW6rj0wq79AhUn1DgGHXufC_UQqoUBegQIBhAB&amp;usg=AOvVaw2cBQLZwVtQ4MbdrFDwO4ld\"><div class=\"NZWO1b\"><img alt=\"\" class=\"yWs4tf\" src=\"https://encrypted-tbn0.gstatic.com/images?q=tbn:ANd9GcTCQk2A2XZwvG62plY_RKtgMt0dBXwGtlP_bxGx10f4FixuIDDl4T5aJsZPT_A&amp;s\"/></div></a></td></tr><tr><td><a href=\"/url?q=https://www.businessinsider.com/the-rise-of-elon-musk-2016-7&amp;sa=U&amp;ved=2ahUKEwjW6rj0wq79AhUn1DgGHXufC_UQr4kDegQIBhAC&amp;usg=AOvVaw2QEFLE0kFwZrb6o--9rnXE\"><div class=\"jB2rPd\"> <span class=\"qXLe6d x3G5ab\"> <span class=\"fYyStc\">Elon Musk's Life Story:...</span> </span> <span class=\"qXLe6d F9iS2e\"> <span class=\"fYyStc\">www.businessinsider.com</span> </span> </div></a></td></tr></table></div></div> </div> </div></td><td align=\"center\" class=\"e3goi\"><div class=\"mnTahd\"> <div> <div class=\"lIMUZd\"><div><table class=\"IkMU6e\"><tr><td><a href=\"/url?q=https://currentaffairs.adda247.com/elon-musk/&amp;sa=U&amp;ved=2ahUKEwjW6rj0wq79AhUn1DgGHXufC_UQqoUBegQIABAB&amp;usg=AOvVaw3Hd1gLhrdb4Fb0C0raIdR5\"><div class=\"NZWO1b\"><img alt=\"\" class=\"yWs4tf\" src=\"https://encrypted-tbn0.gstatic.com/images?q=tbn:ANd9GcRvaHYL6oK4Q7uJiu7PI_E9SsrYGsUFjCeftoz44A9Te2gXcEoH0VRZxDY-fw&amp;s\"/></div></a></td></tr><tr><td><a href=\"/url?q=https://currentaffairs.adda247.com/elon-musk/&amp;sa=U&amp;ved=2ahUKEwjW6rj0wq79AhUn1DgGHXufC_UQr4kDegQIABAC&amp;usg=AOvVaw0lEaCdSbA73k7M6hJM0WoZ\"><div class=\"jB2rPd\"> <span class=\"qXLe6d x3G5ab\"> <span class=\"fYyStc\">Elon Musk: Great Lessons...</span> </span> <span class=\"qXLe6d F9iS2e\"> <span class=\"fYyStc\">currentaffairs.adda247.com</span> </span> </div></a></td></tr></table></div></div> </div> </div></td><td align=\"center\" class=\"e3goi\"><div class=\"mnTahd\"> <div> <div class=\"lIMUZd\"><div><table class=\"IkMU6e\"><tr><td><a href=\"/url?q=https://www.cnbc.com/2023/02/23/sec-rebuffs-musks-attempt-to-get-out-of-funding-secured-settlement.html&amp;sa=U&amp;ved=2ahUKEwjW6rj0wq79AhUn1DgGHXufC_UQqoUBegQIBBAB&amp;usg=AOvVaw0f_WM4Hryrrwa48Ytvkkx7\"><div class=\"NZWO1b\"><img alt=\"\" class=\"yWs4tf\" src=\"https://encrypted-tbn0.gstatic.com/images?q=tbn:ANd9GcTAfEsTa0-9FaqUQ6-VqUVLVL0I5D795n54RAe4Wjzr5e4Qz4l-UkRRMvExGw&amp;s\"/></div></a></td></tr><tr><td><a href=\"/url?q=https://www.cnbc.com/2023/02/23/sec-rebuffs-musks-attempt-to-get-out-of-funding-secured-settlement.html&amp;sa=U&amp;ved=2ahUKEwjW6rj0wq79AhUn1DgGHXufC_UQr4kDegQIBBAC&amp;usg=AOvVaw2o6pJrYld8IjZICNmUJG_b\"><div class=\"jB2rPd\"> <span class=\"qXLe6d x3G5ab\"> <span class=\"fYyStc\">SEC rebuffs Musk's attempt...</span> </span> <span class=\"qXLe6d F9iS2e\"> <span class=\"fYyStc\">www.cnbc.com</span> </span> </div></a></td></tr></table></div></div> </div> </div></td></tr><tr><td align=\"center\" class=\"e3goi\"><div class=\"mnTahd\"> <div> <div class=\"lIMUZd\"><div><table class=\"IkMU6e\"><tr><td><a href=\"/url?q=https://www.investopedia.com/articles/personal-finance/061015/how-elon-musk-became-elon-musk.asp&amp;sa=U&amp;ved=2ahUKEwjW6rj0wq79AhUn1DgGHXufC_UQqoUBegQIAhAB&amp;usg=AOvVaw1wVxlXvlVj5slWMlUDyFJb\"><div class=\"NZWO1b\"><img alt=\"\" class=\"yWs4tf\" src=\"https://encrypted-tbn0.gstatic.com/images?q=tbn:ANd9GcRxf-Jbkdb6IZIh7oNtWyJhYtw3Kg80gamyGyRHZS8klkCrAzThS_D2ymM47A&amp;s\"/></div></a></td></tr><tr><td><a href=\"/url?q=https://www.investopedia.com/articles/personal-finance/061015/how-elon-musk-became-elon-musk.asp&amp;sa=U&amp;ved=2ahUKEwjW6rj0wq79AhUn1DgGHXufC_UQr4kDegQIAhAC&amp;usg=AOvVaw3rZrFVKrrojtvac3-5AvDM\"><div class=\"jB2rPd\"> <span class=\"qXLe6d x3G5ab\"> <span class=\"fYyStc\">Who Is Elon Musk?</span> </span> <span class=\"qXLe6d F9iS2e\"> <span class=\"fYyStc\">www.investopedia.com</span> </span> </div></a></td></tr></table></div></div> </div> </div></td><td align=\"center\" class=\"e3goi\"><div class=\"mnTahd\"> <div> <div class=\"lIMUZd\"><div><table class=\"IkMU6e\"><tr><td><a href=\"/url?q=https://www.thehindu.com/sci-tech/technology/twitter-open-source-tweet-algorithm-ceo-elon-musk-says/article66539577.ece&amp;sa=U&amp;ved=2ahUKEwjW6rj0wq79AhUn1DgGHXufC_UQqoUBegQIBxAB&amp;usg=AOvVaw0PE5uXX2RpPhW_lOH1e3Wl\"><div class=\"NZWO1b\"><img alt=\"\" class=\"yWs4tf\" src=\"https://encrypted-tbn0.gstatic.com/images?q=tbn:ANd9GcRUecfQB8TPdlSrjIRm2icgcUVbkXoniE8rMkdn6UHmfKMZDCX_Dnq3cl1Ktw&amp;s\"/></div></a></td></tr><tr><td><a href=\"/url?q=https://www.thehindu.com/sci-tech/technology/twitter-open-source-tweet-algorithm-ceo-elon-musk-says/article66539577.ece&amp;sa=U&amp;ved=2ahUKEwjW6rj0wq79AhUn1DgGHXufC_UQr4kDegQIBxAC&amp;usg=AOvVaw0CjGEFKvEJs3NWrjO9IrHf\"><div class=\"jB2rPd\"> <span class=\"qXLe6d x3G5ab\"> <span class=\"fYyStc\">Twitter to open source its...</span> </span> <span class=\"qXLe6d F9iS2e\"> <span class=\"fYyStc\">www.thehindu.com</span> </span> </div></a></td></tr></table></div></div> </div> </div></td><td align=\"center\" class=\"e3goi\"><div class=\"mnTahd\"> <div> <div class=\"lIMUZd\"><div><table class=\"IkMU6e\"><tr><td><a href=\"/url?q=https://www.forbes.com/sites/joewalsh/2021/03/13/elon-musks-false-covid-predictions-a-timeline/&amp;sa=U&amp;ved=2ahUKEwjW6rj0wq79AhUn1DgGHXufC_UQqoUBegQICBAB&amp;usg=AOvVaw3TSvOIS75mwPK7TiqBBxje\"><div class=\"NZWO1b\"><img alt=\"\" class=\"yWs4tf\" src=\"https://encrypted-tbn0.gstatic.com/images?q=tbn:ANd9GcSS-Iv_W3USacuFZPiN0_-2jsKjg1uy92ZYHCezgIR6ezCqzzEZb5ip9c4jJVw&amp;s\"/></div></a></td></tr><tr><td><a href=\"/url?q=https://www.forbes.com/sites/joewalsh/2021/03/13/elon-musks-false-covid-predictions-a-timeline/&amp;sa=U&amp;ved=2ahUKEwjW6rj0wq79AhUn1DgGHXufC_UQr4kDegQICBAC&amp;usg=AOvVaw2oTsL3i7DDRGNYxRDi22ZB\"><div class=\"jB2rPd\"> <span class=\"qXLe6d x3G5ab\"> <span class=\"fYyStc\">Elon Musk's False Covid...</span> </span> <span class=\"qXLe6d F9iS2e\"> <span class=\"fYyStc\">www.forbes.com</span> </span> </div></a></td></tr></table></div></div> </div> </div></td><td align=\"center\" class=\"e3goi\"><div class=\"mnTahd\"> <div> <div class=\"lIMUZd\"><div><table class=\"IkMU6e\"><tr><td><a href=\"/url?q=https://www.newscientist.com/article/2342446-the-elon-musk-show-review-searching-for-the-man-who-is-elon-musk/&amp;sa=U&amp;ved=2ahUKEwjW6rj0wq79AhUn1DgGHXufC_UQqoUBegQIARAB&amp;usg=AOvVaw1PJpfvR0UE3_QrEpkAGwGW\"><div class=\"NZWO1b\"><img alt=\"\" class=\"yWs4tf\" src=\"https://encrypted-tbn0.gstatic.com/images?q=tbn:ANd9GcQkqgOWpGbsjvlfXgAzldcUv97Lh_0WqwpXwlrwCzhWF2YHLJO7PQgFKZR7gSg&amp;s\"/></div></a></td></tr><tr><td><a href=\"/url?q=https://www.newscientist.com/article/2342446-the-elon-musk-show-review-searching-for-the-man-who-is-elon-musk/&amp;sa=U&amp;ved=2ahUKEwjW6rj0wq79AhUn1DgGHXufC_UQr4kDegQIARAC&amp;usg=AOvVaw3mGc5Z8mCqGFdvYaxYicSy\"><div class=\"jB2rPd\"> <span class=\"qXLe6d x3G5ab\"> <span class=\"fYyStc\">The Elon Musk Show review:...</span> </span> <span class=\"qXLe6d F9iS2e\"> <span class=\"fYyStc\">www.newscientist.com</span> </span> </div></a></td></tr></table></div></div> </div> </div></td></tr></table></div><table class=\"uZgmoc\"><tbody><td><a class=\"frGj1b\" href=\"/search?q=elon+musk&amp;biw=1280&amp;bih=616&amp;ie=UTF-8&amp;tbm=isch&amp;ei=Vd74Y5bsJqeo4-EP-76uqA8&amp;start=20&amp;sa=N\">Next &gt;</a></td></tbody></table><br/><div class=\"TuS8Ad\" data-ved=\"0ahUKEwjW6rj0wq79AhUn1DgGHXufC_UQpyoIUg\"><style>.VYM29{font-weight:bold}</style><div align=\"center\" class=\"HddGcc\"><span class=\"VYM29\">Pimple Gurav, Pimpri-Chinchwad, Maharashtra</span><span> - </span><span>From your IP address</span><span> - </span><a href=\"/url?q=https://support.google.com/websearch%3Fp%3Dws_settings_location%26hl%3Den-IN&amp;sa=U&amp;ved=0ahUKEwjW6rj0wq79AhUn1DgGHXufC_UQty4IUw&amp;usg=AOvVaw0F1yy9wlb3Gn8yc0ODp2Os\">Learn more</a></div><div align=\"center\"><a class=\"rEM8G\" href=\"/url?q=https://accounts.google.com/ServiceLogin%3Fcontinue%3Dhttps://www.google.com/search%253Fq%253Delon%252Bmusk%2526sxsrf%253DAJOqlzVe0WPRjANnhLF4Lcw9hzJpPg9sXQ:1677252234808%2526source%253Dlnms%2526tbm%253Disch%2526sa%253DX%2526ved%253D2ahUKEwi62Z29u679AhVN1zgGHRbCCDIQ0pQJegQIBhAC%2526biw%253D1280%2526bih%253D616%2526dpr%253D1.5%26hl%3Den&amp;sa=U&amp;ved=0ahUKEwjW6rj0wq79AhUn1DgGHXufC_UQxs8CCFQ&amp;usg=AOvVaw1Ji7Y_CdPLIxiiSRbFLdku\">Sign in</a></div><div><table class=\"bookcf\"><tbody class=\"InWNIe\"><tr><td><a class=\"rEM8G\" href=\"https://www.google.com/preferences?hl=en&amp;sa=X&amp;ved=0ahUKEwjW6rj0wq79AhUn1DgGHXufC_UQv5YECFU\">Settings</a></td><td><a class=\"rEM8G\" href=\"https://www.google.com/intl/en_in/policies/privacy/\">Privacy</a></td><td><a class=\"rEM8G\" href=\"https://www.google.com/intl/en_in/policies/terms/\">Terms</a></td></tr></tbody></table></div></div><div> </div></body></html>"
      ]
     },
     "execution_count": 108,
     "metadata": {},
     "output_type": "execute_result"
    }
   ],
   "source": [
    "soup"
   ]
  },
  {
   "cell_type": "code",
   "execution_count": 109,
   "id": "77cb7964",
   "metadata": {},
   "outputs": [],
   "source": [
    "image_tages=soup.find_all('img')"
   ]
  },
  {
   "cell_type": "code",
   "execution_count": 112,
   "id": "9cd7f5bb",
   "metadata": {},
   "outputs": [],
   "source": [
    "\n",
    "del image_tages[0]"
   ]
  },
  {
   "cell_type": "code",
   "execution_count": 117,
   "id": "a67bc35b",
   "metadata": {},
   "outputs": [
    {
     "data": {
      "text/plain": [
       "19"
      ]
     },
     "execution_count": 117,
     "metadata": {},
     "output_type": "execute_result"
    }
   ],
   "source": [
    "len(image_tages)"
   ]
  },
  {
   "cell_type": "code",
   "execution_count": 125,
   "id": "076290ae",
   "metadata": {},
   "outputs": [],
   "source": [
    "image_data_mongo=[]"
   ]
  },
  {
   "cell_type": "code",
   "execution_count": 134,
   "id": "f25fd80b",
   "metadata": {},
   "outputs": [],
   "source": [
    "for i in image_tages:\n",
    "    image_url=i['src']\n",
    "    image_data=requests.get(image_url).content\n",
    "    mydict={\"index\":image_url,\"image\":image_data}\n",
    "    image_data_mongo.append(mydict)\n",
    "    with open (os.path.join(save_dir,f\"{query}_{image_tages.index(i)}.jpg\"),\"wb\") as f:\n",
    "                f.write(image_data)"
   ]
  },
  {
   "cell_type": "code",
   "execution_count": null,
   "id": "842004dc",
   "metadata": {},
   "outputs": [],
   "source": []
  },
  {
   "cell_type": "code",
   "execution_count": null,
   "id": "884c138d",
   "metadata": {},
   "outputs": [],
   "source": []
  },
  {
   "cell_type": "code",
   "execution_count": null,
   "id": "dcda8720",
   "metadata": {},
   "outputs": [],
   "source": []
  }
 ],
 "metadata": {
  "kernelspec": {
   "display_name": "Python 3 (ipykernel)",
   "language": "python",
   "name": "python3"
  },
  "language_info": {
   "codemirror_mode": {
    "name": "ipython",
    "version": 3
   },
   "file_extension": ".py",
   "mimetype": "text/x-python",
   "name": "python",
   "nbconvert_exporter": "python",
   "pygments_lexer": "ipython3",
   "version": "3.9.13"
  }
 },
 "nbformat": 4,
 "nbformat_minor": 5
}
