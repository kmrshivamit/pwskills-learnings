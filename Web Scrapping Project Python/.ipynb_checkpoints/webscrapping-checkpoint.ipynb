{
 "cells": [
  {
   "cell_type": "code",
   "execution_count": 66,
   "id": "8d9dcf2e",
   "metadata": {},
   "outputs": [],
   "source": [
    "import requests\n",
    "from bs4 import BeautifulSoup as bs\n",
    "from urllib.request import urlopen \n",
    "import logging"
   ]
  },
  {
   "cell_type": "code",
   "execution_count": 67,
   "id": "b39c1cb2",
   "metadata": {},
   "outputs": [],
   "source": [
    "flipcart_utl=\"https://www.flipkart.com/search?q=\" + \"iphone12pro\""
   ]
  },
  {
   "cell_type": "code",
   "execution_count": 68,
   "id": "b9c3cea2",
   "metadata": {},
   "outputs": [
    {
     "data": {
      "text/plain": [
       "'https://www.flipkart.com/search?q=iphone12pro'"
      ]
     },
     "execution_count": 68,
     "metadata": {},
     "output_type": "execute_result"
    }
   ],
   "source": [
    "flipcart_utl"
   ]
  },
  {
   "cell_type": "code",
   "execution_count": 69,
   "id": "d353b435",
   "metadata": {},
   "outputs": [],
   "source": [
    "urlclient=urlopen(flipcart_utl)"
   ]
  },
  {
   "cell_type": "code",
   "execution_count": 70,
   "id": "9cdd68d0",
   "metadata": {},
   "outputs": [
    {
     "data": {
      "text/plain": [
       "<http.client.HTTPResponse at 0x26713cd7220>"
      ]
     },
     "execution_count": 70,
     "metadata": {},
     "output_type": "execute_result"
    }
   ],
   "source": [
    "urlclient"
   ]
  },
  {
   "cell_type": "code",
   "execution_count": 71,
   "id": "2c23d8d8",
   "metadata": {},
   "outputs": [],
   "source": [
    "flipcart_page=urlclient.read()"
   ]
  },
  {
   "cell_type": "code",
   "execution_count": null,
   "id": "4b9a8c0a",
   "metadata": {},
   "outputs": [],
   "source": []
  },
  {
   "cell_type": "code",
   "execution_count": 72,
   "id": "017af998",
   "metadata": {},
   "outputs": [],
   "source": [
    "flipcart_html=bs(flipcard_page,'html.parser')"
   ]
  },
  {
   "cell_type": "code",
   "execution_count": 73,
   "id": "922be309",
   "metadata": {},
   "outputs": [
    {
     "data": {
      "text/plain": []
     },
     "execution_count": 73,
     "metadata": {},
     "output_type": "execute_result"
    }
   ],
   "source": [
    "flipcart_html"
   ]
  },
  {
   "cell_type": "code",
   "execution_count": null,
   "id": "1ba5432a",
   "metadata": {},
   "outputs": [],
   "source": []
  }
 ],
 "metadata": {
  "kernelspec": {
   "display_name": "Python 3 (ipykernel)",
   "language": "python",
   "name": "python3"
  },
  "language_info": {
   "codemirror_mode": {
    "name": "ipython",
    "version": 3
   },
   "file_extension": ".py",
   "mimetype": "text/x-python",
   "name": "python",
   "nbconvert_exporter": "python",
   "pygments_lexer": "ipython3",
   "version": "3.9.13"
  }
 },
 "nbformat": 4,
 "nbformat_minor": 5
}
