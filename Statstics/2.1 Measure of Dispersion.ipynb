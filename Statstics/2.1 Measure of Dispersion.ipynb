{
 "cells": [
  {
   "cell_type": "code",
   "execution_count": 1,
   "id": "55be6de0",
   "metadata": {},
   "outputs": [],
   "source": [
    "#Measure of Dispersion"
   ]
  },
  {
   "cell_type": "code",
   "execution_count": 2,
   "id": "c19918b5",
   "metadata": {},
   "outputs": [],
   "source": [
    "ages_lst=[23,43,56,76,83,23,11]"
   ]
  },
  {
   "cell_type": "code",
   "execution_count": 3,
   "id": "094b66d7",
   "metadata": {},
   "outputs": [],
   "source": [
    "import numpy as np"
   ]
  },
  {
   "cell_type": "code",
   "execution_count": 4,
   "id": "f8e6ca2f",
   "metadata": {},
   "outputs": [
    {
     "data": {
      "text/plain": [
       "45.0"
      ]
     },
     "execution_count": 4,
     "metadata": {},
     "output_type": "execute_result"
    }
   ],
   "source": [
    "np.mean(ages_lst)"
   ]
  },
  {
   "cell_type": "code",
   "execution_count": 5,
   "id": "74acbafb",
   "metadata": {},
   "outputs": [
    {
     "data": {
      "text/plain": [
       "664.8571428571429"
      ]
     },
     "execution_count": 5,
     "metadata": {},
     "output_type": "execute_result"
    }
   ],
   "source": [
    "##variance\n",
    "np.var(ages_lst)"
   ]
  },
  {
   "cell_type": "code",
   "execution_count": 6,
   "id": "7dfb642e",
   "metadata": {},
   "outputs": [
    {
     "data": {
      "text/plain": [
       "25.78482388648685"
      ]
     },
     "execution_count": 6,
     "metadata": {},
     "output_type": "execute_result"
    }
   ],
   "source": [
    "np.std(ages_lst)"
   ]
  },
  {
   "cell_type": "code",
   "execution_count": 7,
   "id": "8071515d",
   "metadata": {},
   "outputs": [
    {
     "data": {
      "text/plain": [
       "<AxesSubplot:ylabel='Count'>"
      ]
     },
     "execution_count": 7,
     "metadata": {},
     "output_type": "execute_result"
    },
    {
     "data": {
      "image/png": "[encoded data removed]",
      "text/plain": [
       "<Figure size 640x480 with 1 Axes>"
      ]
     },
     "metadata": {},
     "output_type": "display_data"
    }
   ],
   "source": [
    "import seaborn as sns\n",
    "sns.histplot(ages_lst,kde=True)"
   ]
  },
  {
   "cell_type": "code",
   "execution_count": 8,
   "id": "7d5d0eb5",
   "metadata": {},
   "outputs": [],
   "source": [
    "import pandas as pd"
   ]
  },
  {
   "cell_type": "code",
   "execution_count": 9,
   "id": "ea7ca9af",
   "metadata": {},
   "outputs": [],
   "source": [
    "data=[[10,12,13],[34,23,45],[32,34,21]]"
   ]
  },
  {
   "cell_type": "code",
   "execution_count": 10,
   "id": "8e374bd1",
   "metadata": {},
   "outputs": [
    {
     "data": {
      "text/plain": [
       "[[10, 12, 13], [34, 23, 45], [32, 34, 21]]"
      ]
     },
     "execution_count": 10,
     "metadata": {},
     "output_type": "execute_result"
    }
   ],
   "source": [
    "data\n"
   ]
  },
  {
   "cell_type": "code",
   "execution_count": 11,
   "id": "e3d34e2d",
   "metadata": {},
   "outputs": [],
   "source": [
    "df=pd.DataFrame(data,columns=['A','B','C'])"
   ]
  },
  {
   "cell_type": "code",
   "execution_count": 12,
   "id": "c8beee1c",
   "metadata": {},
   "outputs": [
    {
     "data": {
      "text/html": [
       "<div>\n",
       "<style scoped>\n",
       "    .dataframe tbody tr th:only-of-type {\n",
       "        vertical-align: middle;\n",
       "    }\n",
       "\n",
       "    .dataframe tbody tr th {\n",
       "        vertical-align: top;\n",
       "    }\n",
       "\n",
       "    .dataframe thead th {\n",
       "        text-align: right;\n",
       "    }\n",
       "</style>\n",
       "<table border=\"1\" class=\"dataframe\">\n",
       "  <thead>\n",
       "    <tr style=\"text-align: right;\">\n",
       "      <th></th>\n",
       "      <th>A</th>\n",
       "      <th>B</th>\n",
       "      <th>C</th>\n",
       "    </tr>\n",
       "  </thead>\n",
       "  <tbody>\n",
       "    <tr>\n",
       "      <th>0</th>\n",
       "      <td>10</td>\n",
       "      <td>12</td>\n",
       "      <td>13</td>\n",
       "    </tr>\n",
       "    <tr>\n",
       "      <th>1</th>\n",
       "      <td>34</td>\n",
       "      <td>23</td>\n",
       "      <td>45</td>\n",
       "    </tr>\n",
       "    <tr>\n",
       "      <th>2</th>\n",
       "      <td>32</td>\n",
       "      <td>34</td>\n",
       "      <td>21</td>\n",
       "    </tr>\n",
       "  </tbody>\n",
       "</table>\n",
       "</div>"
      ],
      "text/plain": [
       "    A   B   C\n",
       "0  10  12  13\n",
       "1  34  23  45\n",
       "2  32  34  21"
      ]
     },
     "execution_count": 12,
     "metadata": {},
     "output_type": "execute_result"
    }
   ],
   "source": [
    "df.head()"
   ]
  },
  {
   "cell_type": "code",
   "execution_count": 13,
   "id": "83752bde",
   "metadata": {},
   "outputs": [
    {
     "data": {
      "text/plain": [
       "A    177.333333\n",
       "B    121.000000\n",
       "C    277.333333\n",
       "dtype: float64"
      ]
     },
     "execution_count": 13,
     "metadata": {},
     "output_type": "execute_result"
    }
   ],
   "source": [
    "df.var()"
   ]
  },
  {
   "cell_type": "code",
   "execution_count": 14,
   "id": "8753caa1",
   "metadata": {},
   "outputs": [
    {
     "data": {
      "text/plain": [
       "0      2.333333\n",
       "1    121.000000\n",
       "2     49.000000\n",
       "dtype: float64"
      ]
     },
     "execution_count": 14,
     "metadata": {},
     "output_type": "execute_result"
    }
   ],
   "source": [
    "df.var(axis=1)"
   ]
  },
  {
   "cell_type": "code",
   "execution_count": 15,
   "id": "dc5ec038",
   "metadata": {},
   "outputs": [
    {
     "data": {
      "text/plain": [
       "25.78482388648685"
      ]
     },
     "execution_count": 15,
     "metadata": {},
     "output_type": "execute_result"
    }
   ],
   "source": [
    "np.std(ages_lst)"
   ]
  },
  {
   "cell_type": "code",
   "execution_count": null,
   "id": "ca56527a",
   "metadata": {},
   "outputs": [],
   "source": []
  }
 ],
 "metadata": {
  "kernelspec": {
   "display_name": "Python 3 (ipykernel)",
   "language": "python",
   "name": "python3"
  },
  "language_info": {
   "codemirror_mode": {
    "name": "ipython",
    "version": 3
   },
   "file_extension": ".py",
   "mimetype": "text/x-python",
   "name": "python",
   "nbconvert_exporter": "python",
   "pygments_lexer": "ipython3",
   "version": "3.9.13"
  }
 },
 "nbformat": 4,
 "nbformat_minor": 5
}
