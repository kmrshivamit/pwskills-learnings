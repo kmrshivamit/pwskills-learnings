{
 "cells": [
  {
   "cell_type": "code",
   "execution_count": 1,
   "id": "36b02f65",
   "metadata": {},
   "outputs": [],
   "source": [
    "data=[7,3,6,8,10,2,5,4,9,1,2,3,11,12,-10,-15,25,30,40,50]"
   ]
  },
  {
   "cell_type": "code",
   "execution_count": 2,
   "id": "116f1d14",
   "metadata": {},
   "outputs": [
    {
     "name": "stdout",
     "output_type": "stream",
     "text": [
      "[7, 3, 6, 8, 10, 2, 5, 4, 9, 1, 2, 3, 11, 12, -10, -15, 25, 30, 40, 50]\n"
     ]
    }
   ],
   "source": [
    "# step-1\n",
    "#sorting\n",
    "import numpy as np\n",
    "np.sort(data)\n",
    "print(data)\n"
   ]
  },
  {
   "cell_type": "code",
   "execution_count": 4,
   "id": "36382341",
   "metadata": {},
   "outputs": [
    {
     "name": "stdout",
     "output_type": "stream",
     "text": [
      "median or q2: 6.5\n",
      "q1: 2.75\n",
      "q3 11.25\n",
      "IQR 8.5\n"
     ]
    }
   ],
   "source": [
    "# Finding median and also to find Q1 and Q3\n",
    "#median\n",
    "q2=np.median(data)\n",
    "print(\"median or q2:\",q2)\n",
    "\n",
    "#calculae the interquartile range(IQR)\n",
    "\n",
    "q1,q3=np.percentile(data,[25,75])\n",
    "iqr=q3-q1\n",
    "\n",
    "print(\"q1:\",q1)\n",
    "print(\"q3\",q3)\n",
    "print(\"IQR\",iqr)"
   ]
  },
  {
   "cell_type": "code",
   "execution_count": 5,
   "id": "2c2ad4fb",
   "metadata": {},
   "outputs": [],
   "source": [
    "lower_bond=q1-1.5*iqr\n",
    "\n",
    "upper_bond=q3+1.5*iqr"
   ]
  },
  {
   "cell_type": "code",
   "execution_count": 6,
   "id": "f2f4601b",
   "metadata": {},
   "outputs": [
    {
     "name": "stdout",
     "output_type": "stream",
     "text": [
      "lower_bond -10.0\n",
      "upper_bond 24.0\n"
     ]
    }
   ],
   "source": [
    "print(\"lower_bond\",lower_bond)\n",
    "print(\"upper_bond\",upper_bond)"
   ]
  },
  {
   "cell_type": "code",
   "execution_count": 10,
   "id": "1aaf8d42",
   "metadata": {},
   "outputs": [
    {
     "data": {
      "text/plain": [
       "[-15, 25, 30, 40, 50]"
      ]
     },
     "execution_count": 10,
     "metadata": {},
     "output_type": "execute_result"
    }
   ],
   "source": [
    "# Identify the outliers\n",
    "outliers=[val for val in data if val<lower_bond or val>upper_bond]\n",
    "outliers"
   ]
  },
  {
   "cell_type": "code",
   "execution_count": 12,
   "id": "33996f5b",
   "metadata": {},
   "outputs": [],
   "source": [
    "#remove outliers\n",
    "new_data=[val for val in data if val>=lower_bond and val<=upper_bond]"
   ]
  },
  {
   "cell_type": "code",
   "execution_count": 13,
   "id": "8b6086e8",
   "metadata": {},
   "outputs": [
    {
     "data": {
      "text/plain": [
       "[7, 3, 6, 8, 10, 2, 5, 4, 9, 1, 2, 3, 11, 12, -10]"
      ]
     },
     "execution_count": 13,
     "metadata": {},
     "output_type": "execute_result"
    }
   ],
   "source": [
    "new_data"
   ]
  },
  {
   "cell_type": "code",
   "execution_count": null,
   "id": "b61ca63b",
   "metadata": {},
   "outputs": [],
   "source": []
  }
 ],
 "metadata": {
  "kernelspec": {
   "display_name": "Python 3 (ipykernel)",
   "language": "python",
   "name": "python3"
  },
  "language_info": {
   "codemirror_mode": {
    "name": "ipython",
    "version": 3
   },
   "file_extension": ".py",
   "mimetype": "text/x-python",
   "name": "python",
   "nbconvert_exporter": "python",
   "pygments_lexer": "ipython3",
   "version": "3.9.13"
  }
 },
 "nbformat": 4,
 "nbformat_minor": 5
}
