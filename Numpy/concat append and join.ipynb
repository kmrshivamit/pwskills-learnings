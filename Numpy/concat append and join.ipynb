{
 "cells": [
  {
   "cell_type": "code",
   "execution_count": 64,
   "id": "674d15e4",
   "metadata": {},
   "outputs": [],
   "source": [
    "import pandas as pd"
   ]
  },
  {
   "cell_type": "code",
   "execution_count": 65,
   "id": "3d2d6263",
   "metadata": {},
   "outputs": [],
   "source": [
    "s1=pd.Series([1,2,3,4,5],index=['a','b','c','d','e'])"
   ]
  },
  {
   "cell_type": "code",
   "execution_count": 66,
   "id": "69eabf3a",
   "metadata": {},
   "outputs": [],
   "source": [
    "s2=pd.Series([6,7,8,9,10],index=['a','b','f','d','e'])"
   ]
  },
  {
   "cell_type": "code",
   "execution_count": 67,
   "id": "f7c8a88d",
   "metadata": {},
   "outputs": [],
   "source": [
    "# concat function of pandas"
   ]
  },
  {
   "cell_type": "code",
   "execution_count": 68,
   "id": "4b9890dc",
   "metadata": {},
   "outputs": [],
   "source": [
    "s3=(pd.concat([s1,s2]))"
   ]
  },
  {
   "cell_type": "code",
   "execution_count": 69,
   "id": "07e5e998",
   "metadata": {},
   "outputs": [
    {
     "data": {
      "text/plain": [
       "a     1\n",
       "b     2\n",
       "c     3\n",
       "d     4\n",
       "e     5\n",
       "a     6\n",
       "b     7\n",
       "f     8\n",
       "d     9\n",
       "e    10\n",
       "dtype: int64"
      ]
     },
     "execution_count": 69,
     "metadata": {},
     "output_type": "execute_result"
    }
   ],
   "source": [
    "s3"
   ]
  },
  {
   "cell_type": "code",
   "execution_count": 70,
   "id": "b3ff3d82",
   "metadata": {},
   "outputs": [
    {
     "data": {
      "text/plain": [
       "10"
      ]
     },
     "execution_count": 70,
     "metadata": {},
     "output_type": "execute_result"
    }
   ],
   "source": [
    "s3[9]"
   ]
  },
  {
   "cell_type": "code",
   "execution_count": 74,
   "id": "80eb596a",
   "metadata": {},
   "outputs": [
    {
     "name": "stderr",
     "output_type": "stream",
     "text": [
      "C:\\Users\\kmrsh\\AppData\\Local\\Temp\\ipykernel_32416\\3929853962.py:1: FutureWarning: The series.append method is deprecated and will be removed from pandas in a future version. Use pandas.concat instead.\n",
      "  s4=s1.append(s2)\n"
     ]
    }
   ],
   "source": [
    "s4=s1.append(s2)"
   ]
  },
  {
   "cell_type": "code",
   "execution_count": 75,
   "id": "953ae840",
   "metadata": {},
   "outputs": [
    {
     "data": {
      "text/plain": [
       "a     1\n",
       "b     2\n",
       "c     3\n",
       "d     4\n",
       "e     5\n",
       "a     6\n",
       "b     7\n",
       "f     8\n",
       "d     9\n",
       "e    10\n",
       "dtype: int64"
      ]
     },
     "execution_count": 75,
     "metadata": {},
     "output_type": "execute_result"
    }
   ],
   "source": [
    "s4"
   ]
  },
  {
   "cell_type": "code",
   "execution_count": null,
   "id": "28fe1f16",
   "metadata": {},
   "outputs": [],
   "source": []
  },
  {
   "cell_type": "code",
   "execution_count": null,
   "id": "3ea7ebf5",
   "metadata": {},
   "outputs": [],
   "source": []
  }
 ],
 "metadata": {
  "kernelspec": {
   "display_name": "Python 3 (ipykernel)",
   "language": "python",
   "name": "python3"
  },
  "language_info": {
   "codemirror_mode": {
    "name": "ipython",
    "version": 3
   },
   "file_extension": ".py",
   "mimetype": "text/x-python",
   "name": "python",
   "nbconvert_exporter": "python",
   "pygments_lexer": "ipython3",
   "version": "3.9.13"
  }
 },
 "nbformat": 4,
 "nbformat_minor": 5
}
