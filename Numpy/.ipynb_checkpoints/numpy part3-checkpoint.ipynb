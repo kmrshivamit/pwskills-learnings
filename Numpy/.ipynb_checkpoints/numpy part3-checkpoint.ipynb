{
 "cells": [
  {
   "cell_type": "code",
   "execution_count": 1,
   "id": "b73cf873",
   "metadata": {},
   "outputs": [],
   "source": [
    "#sort,Search,counting functions"
   ]
  },
  {
   "cell_type": "code",
   "execution_count": 2,
   "id": "59896dc0",
   "metadata": {},
   "outputs": [],
   "source": [
    "import numpy as np"
   ]
  },
  {
   "cell_type": "code",
   "execution_count": 5,
   "id": "80889888",
   "metadata": {},
   "outputs": [],
   "source": [
    "arr=np.array([3,4,5,6,66,77,433])"
   ]
  },
  {
   "cell_type": "code",
   "execution_count": 6,
   "id": "71bb048d",
   "metadata": {},
   "outputs": [
    {
     "data": {
      "text/plain": [
       "array([  3,   4,   5,   6,  66,  77, 433])"
      ]
     },
     "execution_count": 6,
     "metadata": {},
     "output_type": "execute_result"
    }
   ],
   "source": [
    "arr"
   ]
  },
  {
   "cell_type": "code",
   "execution_count": 7,
   "id": "d87556b5",
   "metadata": {},
   "outputs": [
    {
     "data": {
      "text/plain": [
       "array([  3,   4,   5,   6,  66,  77, 433])"
      ]
     },
     "execution_count": 7,
     "metadata": {},
     "output_type": "execute_result"
    }
   ],
   "source": [
    "np.sort(arr)"
   ]
  },
  {
   "cell_type": "code",
   "execution_count": 8,
   "id": "4c41bcc3",
   "metadata": {},
   "outputs": [
    {
     "data": {
      "text/plain": [
       "4"
      ]
     },
     "execution_count": 8,
     "metadata": {},
     "output_type": "execute_result"
    }
   ],
   "source": [
    "np.searchsorted(arr,34)"
   ]
  },
  {
   "cell_type": "code",
   "execution_count": 9,
   "id": "5ed0af61",
   "metadata": {},
   "outputs": [],
   "source": [
    "arr1=np.array([0,232,3,4,4])"
   ]
  },
  {
   "cell_type": "code",
   "execution_count": 10,
   "id": "c2f6993e",
   "metadata": {},
   "outputs": [
    {
     "data": {
      "text/plain": [
       "4"
      ]
     },
     "execution_count": 10,
     "metadata": {},
     "output_type": "execute_result"
    }
   ],
   "source": [
    "np.count_nonzero(arr1)"
   ]
  },
  {
   "cell_type": "code",
   "execution_count": 11,
   "id": "5b5b41a7",
   "metadata": {},
   "outputs": [
    {
     "data": {
      "text/plain": [
       "(array([4, 5, 6], dtype=int64),)"
      ]
     },
     "execution_count": 11,
     "metadata": {},
     "output_type": "execute_result"
    }
   ],
   "source": [
    "np.where(arr>6)"
   ]
  },
  {
   "cell_type": "code",
   "execution_count": 12,
   "id": "760b1815",
   "metadata": {},
   "outputs": [
    {
     "data": {
      "text/plain": [
       "array([ 66,  77, 433])"
      ]
     },
     "execution_count": 12,
     "metadata": {},
     "output_type": "execute_result"
    }
   ],
   "source": [
    "np.extract(arr>6,arr)"
   ]
  },
  {
   "cell_type": "code",
   "execution_count": 13,
   "id": "127c337b",
   "metadata": {},
   "outputs": [
    {
     "data": {
      "text/plain": [
       "array([  3,   4,   5,   6,  66,  77, 433])"
      ]
     },
     "execution_count": 13,
     "metadata": {},
     "output_type": "execute_result"
    }
   ],
   "source": [
    "arr"
   ]
  },
  {
   "cell_type": "code",
   "execution_count": 14,
   "id": "2f3828de",
   "metadata": {},
   "outputs": [
    {
     "data": {
      "text/plain": [
       "array([   50331648,    67108864,    83886080,   100663296,  1107296256,\n",
       "        1291845632, -1325334528])"
      ]
     },
     "execution_count": 14,
     "metadata": {},
     "output_type": "execute_result"
    }
   ],
   "source": [
    "arr.byteswap()"
   ]
  },
  {
   "cell_type": "code",
   "execution_count": 15,
   "id": "99f4f712",
   "metadata": {},
   "outputs": [
    {
     "data": {
      "text/plain": [
       "array([  3,   4,   5,   6,  66,  77, 433])"
      ]
     },
     "execution_count": 15,
     "metadata": {},
     "output_type": "execute_result"
    }
   ],
   "source": [
    "arr"
   ]
  },
  {
   "cell_type": "code",
   "execution_count": 17,
   "id": "9a6f2dd5",
   "metadata": {},
   "outputs": [],
   "source": [
    "a=np.copy(arr) #deep copy"
   ]
  },
  {
   "cell_type": "code",
   "execution_count": 25,
   "id": "cb49d2fb",
   "metadata": {},
   "outputs": [],
   "source": [
    "b=arr.view()"
   ]
  },
  {
   "cell_type": "code",
   "execution_count": 29,
   "id": "4f7ea73d",
   "metadata": {},
   "outputs": [],
   "source": [
    "b[1]=67"
   ]
  },
  {
   "cell_type": "code",
   "execution_count": 30,
   "id": "28156c06",
   "metadata": {},
   "outputs": [
    {
     "data": {
      "text/plain": [
       "array([ 67,  67,   5,   6,  66,  77, 433])"
      ]
     },
     "execution_count": 30,
     "metadata": {},
     "output_type": "execute_result"
    }
   ],
   "source": [
    "b"
   ]
  },
  {
   "cell_type": "code",
   "execution_count": 32,
   "id": "dd4829af",
   "metadata": {},
   "outputs": [
    {
     "data": {
      "text/plain": [
       "array([ 67,  67,   5,   6,  66,  77, 433])"
      ]
     },
     "execution_count": 32,
     "metadata": {},
     "output_type": "execute_result"
    }
   ],
   "source": [
    "arr"
   ]
  },
  {
   "cell_type": "code",
   "execution_count": 33,
   "id": "3b6021a6",
   "metadata": {},
   "outputs": [],
   "source": [
    "#Numpy -Matrix Library"
   ]
  },
  {
   "cell_type": "code",
   "execution_count": 34,
   "id": "7b967b02",
   "metadata": {},
   "outputs": [],
   "source": [
    "import numpy.matlib as nm"
   ]
  },
  {
   "cell_type": "code",
   "execution_count": 36,
   "id": "5f11cf38",
   "metadata": {},
   "outputs": [
    {
     "data": {
      "text/plain": [
       "matrix([[0., 0., 0., 0., 0.]])"
      ]
     },
     "execution_count": 36,
     "metadata": {},
     "output_type": "execute_result"
    }
   ],
   "source": [
    "nm.zeros(5)"
   ]
  },
  {
   "cell_type": "code",
   "execution_count": 38,
   "id": "4a72ac75",
   "metadata": {},
   "outputs": [
    {
     "data": {
      "text/plain": [
       "matrix([[1., 1., 1., 1., 1., 1., 1., 1., 1., 1., 1., 1., 1., 1., 1., 1.,\n",
       "         1., 1., 1., 1., 1., 1., 1., 1., 1., 1., 1., 1., 1., 1.]])"
      ]
     },
     "execution_count": 38,
     "metadata": {},
     "output_type": "execute_result"
    }
   ],
   "source": [
    "nm.ones(30)"
   ]
  },
  {
   "cell_type": "code",
   "execution_count": 39,
   "id": "9d695834",
   "metadata": {},
   "outputs": [
    {
     "data": {
      "text/plain": [
       "matrix([[1., 0., 0., 0., 0.],\n",
       "        [0., 1., 0., 0., 0.],\n",
       "        [0., 0., 1., 0., 0.],\n",
       "        [0., 0., 0., 1., 0.],\n",
       "        [0., 0., 0., 0., 1.]])"
      ]
     },
     "execution_count": 39,
     "metadata": {},
     "output_type": "execute_result"
    }
   ],
   "source": [
    "nm.eye(5)"
   ]
  },
  {
   "cell_type": "code",
   "execution_count": 40,
   "id": "e285ffa5",
   "metadata": {},
   "outputs": [],
   "source": [
    "# Numpy - Linear Algebra"
   ]
  },
  {
   "cell_type": "code",
   "execution_count": 47,
   "id": "cf941c8c",
   "metadata": {},
   "outputs": [],
   "source": [
    "arr1=np.random.randint([[5,3],[2,4]])"
   ]
  },
  {
   "cell_type": "code",
   "execution_count": 48,
   "id": "c3d53a3e",
   "metadata": {},
   "outputs": [],
   "source": [
    "arr2=np.random.randint([[5,3],[2,4]])"
   ]
  },
  {
   "cell_type": "code",
   "execution_count": 49,
   "id": "77690e2b",
   "metadata": {},
   "outputs": [
    {
     "data": {
      "text/plain": [
       "array([[11,  9],\n",
       "       [ 3,  1]])"
      ]
     },
     "execution_count": 49,
     "metadata": {},
     "output_type": "execute_result"
    }
   ],
   "source": [
    "np.dot(arr1,arr2)"
   ]
  },
  {
   "cell_type": "code",
   "execution_count": 50,
   "id": "2725c003",
   "metadata": {},
   "outputs": [
    {
     "data": {
      "text/plain": [
       "array([[11,  9],\n",
       "       [ 3,  1]])"
      ]
     },
     "execution_count": 50,
     "metadata": {},
     "output_type": "execute_result"
    }
   ],
   "source": [
    "arr1@arr2"
   ]
  },
  {
   "cell_type": "code",
   "execution_count": null,
   "id": "d554b9e1",
   "metadata": {},
   "outputs": [],
   "source": []
  }
 ],
 "metadata": {
  "kernelspec": {
   "display_name": "Python 3 (ipykernel)",
   "language": "python",
   "name": "python3"
  },
  "language_info": {
   "codemirror_mode": {
    "name": "ipython",
    "version": 3
   },
   "file_extension": ".py",
   "mimetype": "text/x-python",
   "name": "python",
   "nbconvert_exporter": "python",
   "pygments_lexer": "ipython3",
   "version": "3.9.13"
  }
 },
 "nbformat": 4,
 "nbformat_minor": 5
}
